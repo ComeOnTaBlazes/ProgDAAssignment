{
 "cells": [
  {
   "cell_type": "markdown",
   "metadata": {},
   "source": [
    "###  ![alt text here](https://upload.wikimedia.org/wikipedia/commons/3/31/NumPy_logo_2020.svg)\n",
    "\n",
    "<h1><center>Numpy.Random</center></h1>"
   ]
  },
  {
   "cell_type": "markdown",
   "metadata": {},
   "source": [
    "### Purpose of the Package"
   ]
  },
  {
   "cell_type": "code",
   "execution_count": 1,
   "metadata": {},
   "outputs": [],
   "source": [
    "# Firstly import all modules\n",
    "import numpy as np\n",
    "import pandas as pd\n",
    "import matplotlib.pyplot as plt\n",
    "import seaborn as sns"
   ]
  },
  {
   "cell_type": "markdown",
   "metadata": {},
   "source": [
    "#### What is Numpy & Numpy.random\n",
    "\n",
    "\"Numpy (Numerical Python) is an open source Python library that’s used in almost every field of science and engineering. It’s the universal standard for working with numerical data in Python, and it’s at the core of the scientific Python and PyData ecosystems.[1]\n",
    "\n",
    "Numpy.random is a built in package within Numpy which can produce pseudo random nunbers using combinations of a BitGenerator to create sequences and a generator to use those sequences to sample form different statistical distributions[2]. Essentially numpy.random generates whole arrays of seemingly random data spread across a probability distribution.\n",
    "\n",
    "From randomising initial weights in an artificial nerural network, splitting data into random sets, or shuffling the data within your dataset, the ability ot generate random data is essential to any data analyst/ statistician or enthusiast. If you provide a computer with an input, you will expect to revice an output, if all things the same, you provide the same input, you will receive the same output. This type of determinism is what makes computers so poor at generating random numbers without some form of human intervention.\n",
    "\n",
    "The random numbers produced on the back of this human intervention are  referreed to  as pseudo-random numbers (with some exceptions, but that's for another day). These pseudo-random numbers appear random, but they are predetermined, and can be easily and accurately predicted, which we will discuss in the seeds section."
   ]
  },
  {
   "cell_type": "markdown",
   "metadata": {},
   "source": [
    "## Simple Random Data\n",
    "\n",
    "From the Random Generator documentation[3] there are 4 sub-categories of simple random data generators:\n",
    "\n",
    "1. integers (rng.integers)\n",
    "2. random (rng.random)\n",
    "3. choice (rng.choice)\n",
    "4. bytes (.bytes)- out of scope\n"
   ]
  },
  {
   "cell_type": "markdown",
   "metadata": {},
   "source": [
    "#### 1. Integers (rng.integers)\n",
    "Generator.integers(low, high=None, size=None, dtype=np.int64, endpoint=False)\n",
    "      \n",
    "      \"Returns random integers from low(inclusive) to hight(exclusive),or if endpoint=True, low (inclusive) to high (inclusive)\"[4]\n",
    "      \n",
    "The above essentially means that .integers returns random integers inclusive of the low, up to but not including the high point. It will return an invclusive endpoint if endpoint = Ture\n",
    "   \n",
    "Let's explore the above in a bit more detail."
   ]
  },
  {
   "cell_type": "code",
   "execution_count": 2,
   "metadata": {},
   "outputs": [
    {
     "data": {
      "text/plain": [
       "array([0, 2, 0, 0, 0, 2, 1, 2, 2, 1, 2, 0, 0, 1, 1], dtype=int64)"
      ]
     },
     "execution_count": 2,
     "metadata": {},
     "output_type": "execute_result"
    }
   ],
   "source": [
    "rng = np.random.default_rng()\n",
    "rng.integers(3,size=(15))"
   ]
  },
  {
   "cell_type": "markdown",
   "metadata": {},
   "source": [
    "So we can see in the above output is an array of 15 numbers between 0 & 2, so therefore our rng.integers(3, size=15) has used the low of 3 as an exclusive endpoint and 0 as an inclusive startpoint, this is due to no endpoint being provided, the size =15 is quite obviously the number of ints to be produced.\n",
    "\n",
    "We can further amend our code to provide even more dynamic arrays, for example a 3x15 array"
   ]
  },
  {
   "cell_type": "code",
   "execution_count": 3,
   "metadata": {
    "scrolled": true
   },
   "outputs": [
    {
     "data": {
      "text/plain": [
       "array([[1, 0, 2, 0, 2, 2, 2, 2, 2, 0, 2, 0, 1, 1, 0],\n",
       "       [2, 1, 0, 1, 1, 1, 1, 2, 1, 2, 2, 2, 2, 1, 0],\n",
       "       [2, 2, 0, 0, 1, 2, 0, 2, 1, 2, 1, 0, 2, 2, 2]], dtype=int64)"
      ]
     },
     "execution_count": 3,
     "metadata": {},
     "output_type": "execute_result"
    }
   ],
   "source": [
    "rng.integers(3,size=(3,15))"
   ]
  },
  {
   "cell_type": "markdown",
   "metadata": {},
   "source": [
    "Ok, so let's explore how the random numbers are distributed when generated randomly between 1 & 4. In order to get a fair representation of how these numbers are distributed  we will pass in a size of 1,000. We should expect about 250 results for each number between 1 - 4 if the selection is following the “discrete uniform” distribution."
   ]
  },
  {
   "cell_type": "code",
   "execution_count": 4,
   "metadata": {
    "scrolled": true
   },
   "outputs": [],
   "source": [
    "xint = rng.integers(1, 5,size = 1000)"
   ]
  },
  {
   "cell_type": "code",
   "execution_count": 5,
   "metadata": {
    "scrolled": true
   },
   "outputs": [
    {
     "data": {
      "image/png": "[encoded data removed]",
      "text/plain": [
       "<Figure size 360x360 with 1 Axes>"
      ]
     },
     "metadata": {
      "needs_background": "light"
     },
     "output_type": "display_data"
    }
   ],
   "source": [
    "ax = sns.displot(xint,bins = [1,2,3,4,5])\n",
    "ax.set(xlabel = \"Integers\")\n",
    "plt.title(\"Integers between 1 & 4 @ 1,000 values\")\n",
    "plt.show()"
   ]
  },
  {
   "cell_type": "markdown",
   "metadata": {},
   "source": [
    "So for a sample size of 1000, we get a somewhat even distribution, but not quite what we had envisioned. If we increase the size of the array, we should see the graph trend towards a more even distribution. (size = 10,000)"
   ]
  },
  {
   "cell_type": "code",
   "execution_count": 6,
   "metadata": {},
   "outputs": [],
   "source": [
    "xint = rng.integers(1, 5,size = 10000)"
   ]
  },
  {
   "cell_type": "code",
   "execution_count": 7,
   "metadata": {},
   "outputs": [
    {
     "data": {
      "text/plain": [
       "numpy.ndarray"
      ]
     },
     "execution_count": 7,
     "metadata": {},
     "output_type": "execute_result"
    }
   ],
   "source": [
    "type(rng.integers(1,5, size = 1))"
   ]
  },
  {
   "cell_type": "code",
   "execution_count": 8,
   "metadata": {},
   "outputs": [
    {
     "data": {
      "image/png": "[encoded data removed]",
      "text/plain": [
       "<Figure size 360x360 with 1 Axes>"
      ]
     },
     "metadata": {
      "needs_background": "light"
     },
     "output_type": "display_data"
    }
   ],
   "source": [
    "ax = sns.displot(xint,bins = [1,2,3,4,5])\n",
    "plt.title(\"Integers between 1 & 4 @ 10,000 values\")\n",
    "ax.set(xlabel = \"Integers\")\n",
    "plt.show()"
   ]
  },
  {
   "cell_type": "markdown",
   "metadata": {},
   "source": [
    "The results of are trending towards an even distribution of 25% each, we can expect as as size variable increases the graphed variance in cumulative results will decrease. "
   ]
  },
  {
   "cell_type": "markdown",
   "metadata": {},
   "source": [
    "#### 2. Random (rng.random)\n",
    "Generator.random(size=None, dtype=np.float64, out=None)\n",
    "    \n",
    "    \"Return random floats in the half-open interval [0.0, 1.0].[5]\"\n",
    "    \n",
    "So rng.random will provide and array of random floating point numbers between 0 and 1, of a specified size.\n",
    "\n",
    "Let's see what this means."
   ]
  },
  {
   "cell_type": "code",
   "execution_count": 9,
   "metadata": {},
   "outputs": [
    {
     "data": {
      "text/plain": [
       "0.0990266011041776"
      ]
     },
     "execution_count": 9,
     "metadata": {},
     "output_type": "execute_result"
    }
   ],
   "source": [
    "xrand = rng.random()\n",
    "xrand"
   ]
  },
  {
   "cell_type": "markdown",
   "metadata": {},
   "source": [
    "Above we can see rng.random has produced a floating point number between 0 & 1, see type check below:"
   ]
  },
  {
   "cell_type": "code",
   "execution_count": 10,
   "metadata": {},
   "outputs": [
    {
     "data": {
      "text/plain": [
       "float"
      ]
     },
     "execution_count": 10,
     "metadata": {},
     "output_type": "execute_result"
    }
   ],
   "source": [
    "type(xrand)"
   ]
  },
  {
   "cell_type": "markdown",
   "metadata": {},
   "source": [
    "So as with rng.integers above we will see what sort of distribution the integers are produced at for 1000 results."
   ]
  },
  {
   "cell_type": "code",
   "execution_count": 11,
   "metadata": {},
   "outputs": [],
   "source": [
    "xrand = rng.random(1000)"
   ]
  },
  {
   "cell_type": "code",
   "execution_count": 12,
   "metadata": {},
   "outputs": [
    {
     "data": {
      "image/png": "[encoded data removed]",
      "text/plain": [
       "<Figure size 360x360 with 1 Axes>"
      ]
     },
     "metadata": {
      "needs_background": "light"
     },
     "output_type": "display_data"
    }
   ],
   "source": [
    "ax = sns.displot(xrand)\n",
    "ax.set(xlabel = \"Random Floats\")\n",
    "plt.title(\"Random() @ 1,000 Values\")\n",
    "plt.show()"
   ]
  },
  {
   "cell_type": "markdown",
   "metadata": {},
   "source": [
    "Do we see the same results as before with the graph trending towards an even distribution when increasing the size of our array?"
   ]
  },
  {
   "cell_type": "code",
   "execution_count": 13,
   "metadata": {},
   "outputs": [
    {
     "data": {
      "image/png": "[encoded data removed]",
      "text/plain": [
       "<Figure size 360x360 with 1 Axes>"
      ]
     },
     "metadata": {
      "needs_background": "light"
     },
     "output_type": "display_data"
    }
   ],
   "source": [
    "xrand = rng.random(10000)\n",
    "ax = sns.displot(xrand)\n",
    "ax.set(xlabel = \"Random Floats\")\n",
    "plt.title(\"Random() @ 10,000 Values\")\n",
    "plt.show()"
   ]
  },
  {
   "cell_type": "markdown",
   "metadata": {},
   "source": [
    "It appears that the variance is slightly less than a size of 1000, but the difference here is not as pronounced as with the random.integers function, however the overall distribution appears to be fairly even it may be necessary to expand the size of the array further to get better data:\n"
   ]
  },
  {
   "cell_type": "code",
   "execution_count": 14,
   "metadata": {},
   "outputs": [
    {
     "data": {
      "image/png": "[encoded data removed]",
      "text/plain": [
       "<Figure size 360x360 with 1 Axes>"
      ]
     },
     "metadata": {
      "needs_background": "light"
     },
     "output_type": "display_data"
    }
   ],
   "source": [
    "xrand = rng.random(100000)\n",
    "ax = sns.displot(xrand)\n",
    "ax.set(xlabel = \"Random Floats\")\n",
    "plt.title(\"Random() @ 100,000 Values\")\n",
    "plt.show()"
   ]
  },
  {
   "cell_type": "markdown",
   "metadata": {},
   "source": [
    "As we can see from above, the graphs are again trending towards a uniform distribution. We can explain the requirement for further increasing the size of the array's to see the same results given that we were instructing Numpy to select floats at random between 0 &  1, rather than just pick one of 4 as per rng.integers above."
   ]
  },
  {
   "cell_type": "markdown",
   "metadata": {},
   "source": [
    "#### 3. Choice (rng.choice)\n",
    "\n",
    " Generator.choice(a, size=None, replace=True, p=None, axis=0, shuffle=True)\n",
    " \n",
    "     \"Generates a random sample from a given 1-D array\"[6]\n",
    "     \n",
    "Pretty self-explanatory  - let's see how the random sampling works in practice."
   ]
  },
  {
   "cell_type": "code",
   "execution_count": 15,
   "metadata": {},
   "outputs": [
    {
     "data": {
      "text/plain": [
       "array([2, 3, 2, 1, 1, 1, 3, 0, 1, 3, 2, 3, 2, 3, 1, 2, 0, 3, 0, 3, 3, 3,\n",
       "       0, 0, 0, 0, 3, 3, 3, 2, 1, 3, 2, 1, 3, 1, 2, 3, 1, 2, 2, 0, 0, 3,\n",
       "       2, 2, 0, 3, 1, 1], dtype=int64)"
      ]
     },
     "execution_count": 15,
     "metadata": {},
     "output_type": "execute_result"
    }
   ],
   "source": [
    "rng.choice(4, 50)"
   ]
  },
  {
   "cell_type": "markdown",
   "metadata": {},
   "source": [
    "Above the choice function seems to pick integers between a start point of 0 and an exclusive endpoint of 4, or as the documentation states and array of np.arrange(a) where a is the first argument of the function (in our case above: 4). rng.choice(a, 50) will return 50 results. As per the above modules, let's map this out in visual data and see how rng.choice's distribution will compare."
   ]
  },
  {
   "cell_type": "code",
   "execution_count": 16,
   "metadata": {
    "scrolled": true
   },
   "outputs": [
    {
     "data": {
      "image/png": "[encoded data removed]",
      "text/plain": [
       "<Figure size 360x360 with 1 Axes>"
      ]
     },
     "metadata": {
      "needs_background": "light"
     },
     "output_type": "display_data"
    }
   ],
   "source": [
    "xcho = rng.choice((4), 1000)\n",
    "ax = sns.displot(xcho, bins= 4)\n",
    "ax.set(xlabel = \"Random Choices\")\n",
    "plt.title(\"Choice(0,4) @ 1,000 Values\")\n",
    "plt.show()"
   ]
  },
  {
   "cell_type": "markdown",
   "metadata": {},
   "source": [
    "As with the previous modules we will expand out the size of the array and we should see our resultant graph trend towards a uniform distribution."
   ]
  },
  {
   "cell_type": "code",
   "execution_count": 17,
   "metadata": {},
   "outputs": [
    {
     "data": {
      "image/png": "[encoded data removed]",
      "text/plain": [
       "<Figure size 360x360 with 1 Axes>"
      ]
     },
     "metadata": {
      "needs_background": "light"
     },
     "output_type": "display_data"
    }
   ],
   "source": [
    "xcho = rng.choice((4), 10000)\n",
    "ax = sns.displot(xcho, bins = 4) \n",
    "ax.set(xlabel = \"Random Choices\")\n",
    "plt.title(\"Choice (0,4) @ 10,000 Values\")\n",
    "plt.show()"
   ]
  },
  {
   "cell_type": "markdown",
   "metadata": {},
   "source": [
    "One quirk of the rng.choice function is that we can weight the results using the 'p' argument. In the below graph we should see our 4 random choices weighted per our p argument, the weights correspond to the indexes of the np.arrange(n) discussed above."
   ]
  },
  {
   "cell_type": "code",
   "execution_count": 18,
   "metadata": {
    "scrolled": true
   },
   "outputs": [
    {
     "data": {
      "image/png": "[encoded data removed]",
      "text/plain": [
       "<Figure size 360x360 with 1 Axes>"
      ]
     },
     "metadata": {
      "needs_background": "light"
     },
     "output_type": "display_data"
    }
   ],
   "source": [
    "xcho = rng.choice((4), 10000,  p=[0.1, 0, 0.3, 0.6])\n",
    "ax = sns.displot(xcho, bins  = 4)\n",
    "ax.set(xlabel = \"Random Choices\")\n",
    "plt.title(\"Weighted Choice (0.1, 0, 0.3, 0.6) @ 1,000 Values\")\n",
    "plt.show()"
   ]
  },
  {
   "cell_type": "markdown",
   "metadata": {},
   "source": [
    "In summary, all three of pur random generators looked at produce seemingly random selections with no discernible  bias, in other words uniformly. However, this uniformity is not a true reflection of the world we live in, and there can be different models applied to data and it's distributions, which more accurately reflect this world, some I will discuss below."
   ]
  },
  {
   "cell_type": "markdown",
   "metadata": {},
   "source": [
    "## Permutations"
   ]
  },
  {
   "cell_type": "markdown",
   "metadata": {},
   "source": [
    "The next sub-category within the numpy.random package is Permutations, which deals with the re-arranging or mixing of values within an array or sequence, without changing it's overall contents. The two modules are: \n",
    "\n",
    "1. shuffle\n",
    "2. permutation"
   ]
  },
  {
   "cell_type": "markdown",
   "metadata": {},
   "source": [
    "### 1. Shuffle\n",
    "\n",
    " Generator.shuffle(x, axis=0)\n",
    "     \n",
    "     \"Modify a sequence in-place by shuffling its contents.\n",
    "      The order of sub-arrays is changed but their contents remains the same.\"[7]\n",
    "      \n",
    "The above is fairly concise, so let's see what happens in practice when we use this shuffle method."
   ]
  },
  {
   "cell_type": "markdown",
   "metadata": {},
   "source": [
    "We will just start with a random array of numbers:"
   ]
  },
  {
   "cell_type": "code",
   "execution_count": 19,
   "metadata": {},
   "outputs": [
    {
     "data": {
      "text/plain": [
       "array([5, 1, 2, 2, 7, 1, 6, 6, 8, 4], dtype=int64)"
      ]
     },
     "execution_count": 19,
     "metadata": {},
     "output_type": "execute_result"
    }
   ],
   "source": [
    "shuf = rng.integers(1, 10, size = 10)\n",
    "shuf"
   ]
  },
  {
   "cell_type": "markdown",
   "metadata": {},
   "source": [
    "Now we will pass our array shuf through the shuffle function as an argument, the position or each value has now been shuffled. It is worth noting that this shuffle changes the value of the variable shuf to the new arrangement. i.e when we call shuf from this point on we will get the now-shuffled list/array back."
   ]
  },
  {
   "cell_type": "code",
   "execution_count": 20,
   "metadata": {},
   "outputs": [
    {
     "data": {
      "text/plain": [
       "array([2, 6, 6, 7, 2, 1, 5, 8, 1, 4], dtype=int64)"
      ]
     },
     "execution_count": 20,
     "metadata": {},
     "output_type": "execute_result"
    }
   ],
   "source": [
    "rng.shuffle(shuf)\n",
    "shuf"
   ]
  },
  {
   "cell_type": "markdown",
   "metadata": {},
   "source": [
    "### 2. Permutation\n",
    "\n",
    " Generator.permutation(x, axis=0)\n",
    " \n",
    "     \"Randomly permute a sequence, or return a permuted range.\"[8]\n",
    "     \n",
    "As with the above, the description of what this function does is straight forward, let's see what it does."
   ]
  },
  {
   "cell_type": "code",
   "execution_count": 21,
   "metadata": {},
   "outputs": [
    {
     "data": {
      "text/plain": [
       "array([2, 8, 4, 4, 6, 3, 9, 1, 4, 3], dtype=int64)"
      ]
     },
     "execution_count": 21,
     "metadata": {},
     "output_type": "execute_result"
    }
   ],
   "source": [
    "perm = rng.integers(1, 10, size = 10)\n",
    "perm"
   ]
  },
  {
   "cell_type": "code",
   "execution_count": 22,
   "metadata": {},
   "outputs": [
    {
     "data": {
      "text/plain": [
       "array([1, 9, 3, 2, 6, 4, 3, 8, 4, 4], dtype=int64)"
      ]
     },
     "execution_count": 22,
     "metadata": {},
     "output_type": "execute_result"
    }
   ],
   "source": [
    "rng.permutation(perm)"
   ]
  },
  {
   "cell_type": "markdown",
   "metadata": {},
   "source": [
    "Ok, we can see that the aray has been permuted, but when we call the perm variable, below, we can see that the original array is returned, so unlike shuffle, permutation will not change the status of the varialbe passed through the function. in order to capture the permutation and use it again, we must assign a varialbe to it."
   ]
  },
  {
   "cell_type": "code",
   "execution_count": 23,
   "metadata": {},
   "outputs": [
    {
     "data": {
      "text/plain": [
       "array([2, 8, 4, 4, 6, 3, 9, 1, 4, 3], dtype=int64)"
      ]
     },
     "execution_count": 23,
     "metadata": {},
     "output_type": "execute_result"
    }
   ],
   "source": [
    "perm"
   ]
  },
  {
   "cell_type": "code",
   "execution_count": 24,
   "metadata": {},
   "outputs": [
    {
     "data": {
      "text/plain": [
       "array([9, 8, 4, 6, 4, 1, 4, 3, 3, 2], dtype=int64)"
      ]
     },
     "execution_count": 24,
     "metadata": {},
     "output_type": "execute_result"
    }
   ],
   "source": [
    "perm2= rng.permutation(perm)\n",
    "perm2"
   ]
  },
  {
   "cell_type": "code",
   "execution_count": 25,
   "metadata": {},
   "outputs": [
    {
     "name": "stdout",
     "output_type": "stream",
     "text": [
      "[2 8 4 4 6 3 9 1 4 3]\n",
      "[9 8 4 6 4 1 4 3 3 2]\n"
     ]
    }
   ],
   "source": [
    "print(perm)\n",
    "print(perm2)"
   ]
  },
  {
   "cell_type": "markdown",
   "metadata": {},
   "source": [
    "## Distributions\n",
    "\n",
    "Probability distributions is the mathematical function that gives the probabilites of occurrence of different possible outcomes for an experiment[18] Distributions fall into 2 main categories, characterised by the type of variables in the experiment, either discrete or continuous.\n",
    "\n",
    "Discrete varialbles are ones that can take on a countable range of values, whereas continuous variables are an uncountable set.\n",
    "\n",
    "1. Binomial\n",
    "2. Poisson\n",
    "3. Exponential Distribution\n",
    "4. Uniform\n",
    "5. Normal (Gaussian)"
   ]
  },
  {
   "cell_type": "code",
   "execution_count": 26,
   "metadata": {},
   "outputs": [],
   "source": [
    "def plots(distribution):\n",
    "    ax = sns.displot(distribution, kde = True)\n",
    "    return ax\n",
    "\n",
    "def descrip(x):\n",
    "    mean = print(\"Mean =\", np.mean(x))\n",
    "    varience = print(\"Varience =\", np.var(x))\n",
    "    sd = print(\"Standard Deviation =\", np.std(x))"
   ]
  },
  {
   "cell_type": "markdown",
   "metadata": {},
   "source": [
    "### 1. Binomial\n",
    "\n",
    " Generator.binomial(n, p, size=None)\n",
    " \n",
    "        \"Samples are drawn from a binomial distribution with specified parameters, n trials and p probability of success where n an integer >= 0 and p is in the interval [0,1]. (n may be input as a float, but it is truncated to an integer in use)\"\n",
    "       \n",
    "![alt text here](https://numpy.org/doc/stable/_images/math/a3235d9c59e404c34cbb15d54a794631511dfbcc.svg)\n",
    "\n",
    "Where $n$ is the number of trials, $p$ is the probability of success, and $N$ is the number of successes.\n",
    "\n",
    "The binomial distribution model operates on four key assumptions:\n",
    "        1. Each cycle has one of two possible outcomes (success & failure)\n",
    "        2. The probability of success is the same for each cycle\n",
    "        3. Each cycle is independent of the others\n",
    "        4. The number of trials carried out is a set number"
   ]
  },
  {
   "cell_type": "markdown",
   "metadata": {},
   "source": [
    "So the Binomial distribution calculates the probability of success of a scenario with 2 distinct possible outcomes, leading it to be referred to as a discrete probability function. Very often you will find people refer to the toss of a coin as an example of what the binomial distribution can calculate.\n",
    "\n",
    "Calculating the probability one specific side of a dice appears, let's say 2 times in 6 rolls, is another equally attributable game of chance we can apply, as we can either have a success or failure. Firstly let's do a quick calculation on what is the rough result we would expect to see for the 2 sides of a die to appear in 6 rolls:\n",
    "        Probability of our designated side appearing in one roll: 1/6\n",
    "        Probability of our designated side appearing in two rolls: (1/6)^2\n",
    "        Probability of other side appearing in one roll: 5/6\n",
    "        Probability of other side appearing in four roll: (5/6)^4\n",
    "        Number of possible success permuations: 6c2 (nCr)= 15[9]"
   ]
  },
  {
   "cell_type": "code",
   "execution_count": 27,
   "metadata": {},
   "outputs": [
    {
     "data": {
      "text/plain": [
       "0.20093878600823045"
      ]
     },
     "execution_count": 27,
     "metadata": {},
     "output_type": "execute_result"
    }
   ],
   "source": [
    "probcalc = (((1/6)**2)*((5/6)**4))*15\n",
    "probcalc"
   ]
  },
  {
   "cell_type": "markdown",
   "metadata": {},
   "source": [
    "Working it out, roughly, we get a 20% chance that on 6 rolls of a dice, our designated  side will appear two times.\n",
    "\n",
    "So we are expecting the chances that we roll six of the same number in six rolls to be in line with the above value for x. We can calculate this out suing the binomial function in numpy. Graphing this out we can see the distribution of the number of successes in our six rolls, across our desired sample size. "
   ]
  },
  {
   "cell_type": "code",
   "execution_count": 28,
   "metadata": {},
   "outputs": [],
   "source": [
    "def binomdf(n,p, siz):\n",
    "    binom = rng.binomial(n,p, size = siz)\n",
    "    return binom"
   ]
  },
  {
   "cell_type": "code",
   "execution_count": 29,
   "metadata": {},
   "outputs": [
    {
     "data": {
      "text/plain": [
       "0.1992"
      ]
     },
     "execution_count": 29,
     "metadata": {},
     "output_type": "execute_result"
    }
   ],
   "source": [
    "binomial = (binomdf(6, 0.1666667, 10000))\n",
    "diceprob = sum(binomial==2)/10000\n",
    "diceprob"
   ]
  },
  {
   "cell_type": "code",
   "execution_count": 30,
   "metadata": {},
   "outputs": [
    {
     "name": "stdout",
     "output_type": "stream",
     "text": [
      "Mean = 0.996\n",
      "Varience = 0.8273839999999998\n",
      "Standard Deviation = 0.9096065083320368\n"
     ]
    }
   ],
   "source": [
    "descrip(binomial)"
   ]
  },
  {
   "cell_type": "markdown",
   "metadata": {},
   "source": [
    "Given 10,000 tests we can see that the probability of getting 2 successful results is indeed roughly 20% when we run our np.random.binomial() function. We can graph this information. So using the binomial expansions in numpy, we can easily recreate scenarios such as a dice roll, high/low card games and the flip of a coin."
   ]
  },
  {
   "cell_type": "code",
   "execution_count": 31,
   "metadata": {},
   "outputs": [
    {
     "data": {
      "image/png": "[encoded data removed]",
      "text/plain": [
       "<Figure size 360x360 with 1 Axes>"
      ]
     },
     "metadata": {
      "needs_background": "light"
     },
     "output_type": "display_data"
    }
   ],
   "source": [
    "ax = plots(binomial)\n",
    "plt.title(\"Binomial Dist n = 6, p =1.666667 @ 10,000\")\n",
    "ax.set(xlabel = \"# of Successes\",ylabel = \"Frequency\");"
   ]
  },
  {
   "cell_type": "markdown",
   "metadata": {},
   "source": [
    "### 2. Poisson Distribution\n",
    "\n",
    "Generator.poisson(lam=1.0, size=None)\n",
    " \n",
    "        \"Draw samples from a Poisson distribution.\n",
    "         The Poisson distribution is the limit of the binomial distribution for large N.\"\n",
    "         \n",
    "Another discrete probability distribution, Poisson expresses the probability of how many events can happen in a fixed interval of time, if the events occur with a known continuous average rate and independently of the time since the last event.[10] Or, in laymans terms - a discrete event where the average time between events is known, but the timing of these events is random[11]. Examples of such processes are movements in stock price, hits on a web page and the number of meteors hitting Earth.\n",
    "\n",
    "As with the binomial distribution there some assumptions which must be met before the Poisson distribution can be applied:[11]\n",
    "    1. Events are independent of each other\n",
    "    2. The average rate is constant\n",
    "    3. Two events cannot occur simultaneously  \n",
    "    \n",
    "![alt text here](https://numpy.org/doc/stable/_images/math/c91108ae66a9a5e2feb9442c67962868e368fdc8.svg)\n",
    "    \n",
    "'lam' ($\\lambda$ - lambda) above denotes the rate at which the event in question occurs. In the above formula: $k$ is the number of times an event happens, and e the mathematical constant (approx. 2.71828). As the value for $\\lambda$ changes, we will see the probability of seeing different number sof events in one interval change."
   ]
  },
  {
   "cell_type": "code",
   "execution_count": 32,
   "metadata": {},
   "outputs": [],
   "source": [
    "def poissdf(lam, siz):\n",
    "    poiss = rng.poisson(lam, size = siz)\n",
    "    return poiss"
   ]
  },
  {
   "cell_type": "code",
   "execution_count": 33,
   "metadata": {},
   "outputs": [],
   "source": [
    "poisson = poissdf(4,10000)"
   ]
  },
  {
   "cell_type": "code",
   "execution_count": 34,
   "metadata": {},
   "outputs": [
    {
     "name": "stdout",
     "output_type": "stream",
     "text": [
      "Mean = 4.0232\n",
      "Varience = 4.097461760000001\n",
      "Standard Deviation = 2.024218802402547\n"
     ]
    }
   ],
   "source": [
    "descrip(poisson)"
   ]
  },
  {
   "cell_type": "code",
   "execution_count": 35,
   "metadata": {},
   "outputs": [
    {
     "data": {
      "image/png": "[encoded data removed]",
      "text/plain": [
       "<Figure size 360x360 with 1 Axes>"
      ]
     },
     "metadata": {
      "needs_background": "light"
     },
     "output_type": "display_data"
    }
   ],
   "source": [
    "ax = plots(poisson)\n",
    "plt.title(\"Poisson Dist @ scale = 0.5\")\n",
    "ax.set(xlabel = \"Events\", ylabel = \"Frequency\");"
   ]
  },
  {
   "cell_type": "markdown",
   "metadata": {},
   "source": [
    "### Exponential Distirbution\n",
    "\n",
    " Generator.exponential(scale=1.0, size=None)\n",
    " \n",
    "\"The exponential distribution is a continuous analogue of the geometric distribution. It describes many common situations, such as the size of raindrops measured over many rainstorms, or the time between page requests to Wikipedia.\"[12]\n",
    " \n",
    "![alt text here](https://numpy.org/doc/stable/_images/math/e07802bacb29723c1c1503e40bdd2327cc749fe6.svg)\n",
    " \n",
    "This distribution is much like the Poisson distribtuion discussed above, however rather than describe the likelihood of an event occurring, it describes the time between events in a Poisson process, it again uses the parameter $\\lambda$ ($\\lambda$ = 1/$\\beta$)."
   ]
  },
  {
   "cell_type": "code",
   "execution_count": 36,
   "metadata": {},
   "outputs": [],
   "source": [
    "def expondf(scale, siz):\n",
    "    expon = (rng.exponential(scale, size = siz))\n",
    "    return expon"
   ]
  },
  {
   "cell_type": "code",
   "execution_count": 37,
   "metadata": {},
   "outputs": [],
   "source": [
    "exponential = expondf(0.5, 10000)"
   ]
  },
  {
   "cell_type": "code",
   "execution_count": 38,
   "metadata": {},
   "outputs": [
    {
     "name": "stdout",
     "output_type": "stream",
     "text": [
      "Mean = 0.4977097012286373\n",
      "Varience = 0.2500687728814536\n",
      "Standard Deviation = 0.5000687681523949\n"
     ]
    }
   ],
   "source": [
    "descrip(exponential)"
   ]
  },
  {
   "cell_type": "code",
   "execution_count": 39,
   "metadata": {},
   "outputs": [
    {
     "data": {
      "image/png": "[encoded data removed]",
      "text/plain": [
       "<Figure size 360x360 with 1 Axes>"
      ]
     },
     "metadata": {
      "needs_background": "light"
     },
     "output_type": "display_data"
    }
   ],
   "source": [
    "ax = plots(expondf(0.5, 10000))\n",
    "plt.title(\"Exponential Dist @ scale = 0.5\")\n",
    "ax.set(xlabel = \"Exponential Dist\", ylabel = \"Frequency\");"
   ]
  },
  {
   "cell_type": "markdown",
   "metadata": {},
   "source": [
    "### 4. Uniform Distribution\n",
    "\n",
    "Generator.uniform(low=0.0, high=1.0, size=None)\n",
    " \n",
    "     \"Samples are uniformly distributed over the half-open interval [low, high) (includes low, but excludes high). In other words, any value within the given interval is equally likely to be drawn by uniform.\"[13]\n",
    "     \n",
    "We have already seen what the unifom distribution from the random data section above, namely .integers() and .random(), the differences being where the distribution is called from, we could say that this distribution is the default of random numbers in Numpy.\n",
    "\n",
    "The probability density function is defined as:\n",
    "\n",
    "![alt text here](https://numpy.org/doc/stable/_images/math/dd6cc267049993f4cee9a16302017c7c2355f045.svg)\n",
    "\n",
    "Where the interval ($a$,$b$) defines outer the boundaries of results"
   ]
  },
  {
   "cell_type": "markdown",
   "metadata": {},
   "source": [
    "Let's see if we get a graph similar to the the resul;ts in the Simple Random Data section."
   ]
  },
  {
   "cell_type": "code",
   "execution_count": 40,
   "metadata": {},
   "outputs": [],
   "source": [
    "def unifdf(low, high, siz):\n",
    "    unif = rng.uniform(low, high, size = siz)\n",
    "    return unif"
   ]
  },
  {
   "cell_type": "code",
   "execution_count": 41,
   "metadata": {},
   "outputs": [],
   "source": [
    "uniform = unifdf(0,100,1000)"
   ]
  },
  {
   "cell_type": "code",
   "execution_count": 42,
   "metadata": {},
   "outputs": [
    {
     "name": "stdout",
     "output_type": "stream",
     "text": [
      "Mean = 50.42247505831158\n",
      "Varience = 869.1412166957504\n",
      "Standard Deviation = 29.481201072815036\n"
     ]
    }
   ],
   "source": [
    "descrip(uniform)"
   ]
  },
  {
   "cell_type": "code",
   "execution_count": 43,
   "metadata": {},
   "outputs": [
    {
     "data": {
      "image/png": "[encoded data removed]",
      "text/plain": [
       "<Figure size 360x360 with 1 Axes>"
      ]
     },
     "metadata": {
      "needs_background": "light"
     },
     "output_type": "display_data"
    }
   ],
   "source": [
    "ax = plots(uniform)\n",
    "plt.title(\"Unfirm Dist 0-100 @ 1,000 data points\")\n",
    "ax.set(xlabel = \"Value from Uniform Distribution\", ylabel = \"Frequency\");"
   ]
  },
  {
   "cell_type": "markdown",
   "metadata": {},
   "source": [
    "Lets see if we can spot anything useful by expanding the size parameter."
   ]
  },
  {
   "cell_type": "code",
   "execution_count": 44,
   "metadata": {},
   "outputs": [
    {
     "data": {
      "image/png": "[encoded data removed]",
      "text/plain": [
       "<Figure size 360x360 with 1 Axes>"
      ]
     },
     "metadata": {
      "needs_background": "light"
     },
     "output_type": "display_data"
    }
   ],
   "source": [
    "ax = plots(unifdf(0,100,10000))\n",
    "plt.title(\"Unfirm Dist 0-100 @ 10,000 data points\")\n",
    "ax.set(xlabel = \"Value from Uniform Distribution\", ylabel = \"Frequency\");"
   ]
  },
  {
   "cell_type": "markdown",
   "metadata": {},
   "source": [
    "So as we have previuously seen in our random data section, we see that as we increase the size of our sample from the unifrom distribution, we can see the graph trend towards a uniform distribution. "
   ]
  },
  {
   "cell_type": "markdown",
   "metadata": {},
   "source": [
    "### Normal (Gaussian) distribution\n",
    "\n",
    "Generator.normal(loc=0.0, scale=1.0, size=None)\n",
    "\n",
    "\n",
    "\n",
    "Finally, we get to what is the most famous and common of distributions, the Gaussian/Normal distribution, commonly called a bell curve. Often used in the natural and social sciences to represent real-valued random variables with unknown distributions. The normal distribution is known for it's fit on countless natural occurances; height/weight of individuals, IQ scores,and shoe size. \n",
    "\n",
    "A normal distribution has some key features; a bell-curve shape, the mean and median  are equal. Below we can see an example of a Standard Normal Distribution of mean = o, and a standard deviation of 1:"
   ]
  },
  {
   "cell_type": "markdown",
   "metadata": {},
   "source": [
    "![alt text here](https://i.imgur.com/Mt3RyE0.png)\n"
   ]
  },
  {
   "cell_type": "markdown",
   "metadata": {},
   "source": [
    "For all normal distributions:\n",
    "68% of the data falls within 1 stdndard deviation of the mean\n",
    "95% of the data falls within 2 standard deviations of the mean\n",
    "99.7% of the data falls within 3 standard deviations of the mean\n",
    "\n",
    "This is called the empirical rule or 68-95-99.7 rule, it is an expression of how many observations fall within a certain distance of the mean. as the standard deviation is often refferred to a as sigma, this rule has another name, The Three Sigma Rule[14]"
   ]
  },
  {
   "cell_type": "markdown",
   "metadata": {},
   "source": [
    "The probability density function for the Gaussian distribution is:\n",
    "\n",
    "![alt text here](https://numpy.org/doc/stable/_images/math/b4a4f5ca59e5559aa092b30b98184ec0bb689b7a.svg)\n",
    "\n",
    "Where $\\mu$ is the mean and $\\sigma$ is the standard deviation, the square of the standard deviation $\\sigma^{_{2}}$[15]"
   ]
  },
  {
   "cell_type": "code",
   "execution_count": 45,
   "metadata": {},
   "outputs": [],
   "source": [
    "def normdf(mu, sigma, siz):\n",
    "    norm = rng.normal(mu, sigma, size = siz)\n",
    "    return(norm)"
   ]
  },
  {
   "cell_type": "code",
   "execution_count": 46,
   "metadata": {},
   "outputs": [],
   "source": [
    "normal = normdf(0,10,10000)"
   ]
  },
  {
   "cell_type": "code",
   "execution_count": 47,
   "metadata": {},
   "outputs": [],
   "source": [
    "def descrip(x):\n",
    "    mean = print(\"Mean =\", np.mean(x))\n",
    "    varience = print(\"Varience =\", np.var(x))\n",
    "    sd = print(\"Standard Deviation =\", np.std(x))"
   ]
  },
  {
   "cell_type": "code",
   "execution_count": 48,
   "metadata": {},
   "outputs": [
    {
     "name": "stdout",
     "output_type": "stream",
     "text": [
      "Mean = -0.07765197553042971\n",
      "Varience = 100.55999765943605\n",
      "Standard Deviation = 10.02796079267545\n"
     ]
    }
   ],
   "source": [
    "descrip(normal)"
   ]
  },
  {
   "cell_type": "code",
   "execution_count": 49,
   "metadata": {},
   "outputs": [
    {
     "data": {
      "image/png": "[encoded data removed]",
      "text/plain": [
       "<Figure size 360x360 with 1 Axes>"
      ]
     },
     "metadata": {
      "needs_background": "light"
     },
     "output_type": "display_data"
    }
   ],
   "source": [
    "ax = plots(normdf(0,10,10000))\n",
    "plt.title(\"Normal Dist of STD 10 @ 10,000 data points\")\n",
    "ax.set(xlabel = \"Value from Normal Distribution\", ylabel = \"Frequency\");\n"
   ]
  },
  {
   "cell_type": "markdown",
   "metadata": {},
   "source": [
    "## Seeds In Generating Random Numbers\n",
    "\n",
    "**Computers are deterministic**\n",
    "\n",
    "As we have previously seen above, 'random' or pseudo-random numbers in Numpy merely appear to be random, they are determined by the program's alogrithm and the input provided by the user. Computers are about as good at generating random numbers as bricks are at flaoting in the air. In Numpy, a default a state of 'entropy' is taken off the host machine's operating system and this will dictate how the random number's are generated i.e the input to the algorithm. \n",
    "\n",
    "There is also an option for the user to dictate what this input can be, it takes the form of 'seeds', which can be viewed as a set start point for the random generator selected, from here this generator runs it's algorithm. If we run the same algorithm from the same start point (hence- seed), we will get the same results each time. Please see the below example, using a random seed of 42, we should be able to produce two identical arrays.[16]"
   ]
  },
  {
   "cell_type": "code",
   "execution_count": 50,
   "metadata": {
    "scrolled": true
   },
   "outputs": [
    {
     "data": {
      "text/plain": [
       "array([[0.77395605, 0.43887844, 0.85859792],\n",
       "       [0.69736803, 0.09417735, 0.97562235],\n",
       "       [0.7611397 , 0.78606431, 0.12811363]])"
      ]
     },
     "execution_count": 50,
     "metadata": {},
     "output_type": "execute_result"
    }
   ],
   "source": [
    "rng =np.random.default_rng(seed=42)\n",
    "rng.random((3, 3))"
   ]
  },
  {
   "cell_type": "code",
   "execution_count": 51,
   "metadata": {},
   "outputs": [
    {
     "data": {
      "text/plain": [
       "array([[0.77395605, 0.43887844, 0.85859792],\n",
       "       [0.69736803, 0.09417735, 0.97562235],\n",
       "       [0.7611397 , 0.78606431, 0.12811363]])"
      ]
     },
     "execution_count": 51,
     "metadata": {},
     "output_type": "execute_result"
    }
   ],
   "source": [
    "x =np.random.default_rng(seed=42)\n",
    "x.random((3, 3))"
   ]
  },
  {
   "cell_type": "markdown",
   "metadata": {},
   "source": [
    "Below I have repeated the same code, but with seed 37 to show that different results will be produced for a different seed, but that replicating the seed will produce the same values."
   ]
  },
  {
   "cell_type": "code",
   "execution_count": 52,
   "metadata": {},
   "outputs": [
    {
     "data": {
      "text/plain": [
       "array([[0.70415303, 0.66166872, 0.06899324],\n",
       "       [0.70280165, 0.31896221, 0.45009567],\n",
       "       [0.98061453, 0.0644321 , 0.18368115]])"
      ]
     },
     "execution_count": 52,
     "metadata": {},
     "output_type": "execute_result"
    }
   ],
   "source": [
    "x =np.random.default_rng(seed=37)\n",
    "x.random((3, 3))"
   ]
  },
  {
   "cell_type": "code",
   "execution_count": 53,
   "metadata": {},
   "outputs": [
    {
     "data": {
      "text/plain": [
       "array([[0.70415303, 0.66166872, 0.06899324],\n",
       "       [0.70280165, 0.31896221, 0.45009567],\n",
       "       [0.98061453, 0.0644321 , 0.18368115]])"
      ]
     },
     "execution_count": 53,
     "metadata": {},
     "output_type": "execute_result"
    }
   ],
   "source": [
    "rng =np.random.default_rng(seed=37)\n",
    "rng.random((3, 3))"
   ]
  },
  {
   "cell_type": "markdown",
   "metadata": {},
   "source": [
    "The seed concept can apply to all random functions we have discussed in the abmove document, and acts in the same manner, creating repeatable and consistent results when running code. This can have many benefits to the end user:\n",
    "\n",
    "    1. Repeatable code is great for testing\n",
    "    2. Code is easier to share and provide tutorials\n",
    "    3. Changing a varialbe to a constant greatly benefits the programmer and gives them flexibility in fixing formulas, predictions etc"
   ]
  },
  {
   "cell_type": "markdown",
   "metadata": {},
   "source": [
    "Random seeds are used across a range of fields:\n",
    "\n",
    "    1. Probability and Statistics \n",
    "    2. Computing (Monte Carlo methods)\n",
    "    3. Deep Learning\n",
    "    4. Machine learning\n",
    "    5. Random Sampling"
   ]
  },
  {
   "cell_type": "code",
   "execution_count": null,
   "metadata": {},
   "outputs": [],
   "source": []
  },
  {
   "cell_type": "markdown",
   "metadata": {},
   "source": [
    "References:\n",
    "\n",
    "1 - https://numpy.org/doc/stable/user/absolute_beginners.html\n",
    "\n",
    "2 - https://numpy.org/doc/stable/reference/random/index.html\n",
    "\n",
    "3 - https://numpy.org/doc/stable/reference/random/generator.html\n",
    "\n",
    "4 - https://numpy.org/doc/stable/reference/random/generated/numpy.random.Generator.integers.html#numpy.random.Generator.integers\n",
    "\n",
    "5 - https://numpy.org/doc/stable/reference/random/generated/numpy.random.Generator.random.html#numpy.random.Generator.random\n",
    "\n",
    "6 - https://numpy.org/doc/stable/reference/random/generated/numpy.random.Generator.choice.html#numpy.random.Generator.choice\n",
    "\n",
    "7 - https://numpy.org/doc/stable/reference/random/generated/numpy.random.Generator.shuffle.html#numpy.random.Generator.shuffle\n",
    "\n",
    "8 - https://numpy.org/doc/stable/reference/random/generated/numpy.random.Generator.permutation.html#numpy.random.Generator.permutation\n",
    "\n",
    "9 - https://en.wikipedia.org/wiki/Combination\n",
    "\n",
    "10 - https://en.wikipedia.org/wiki/Poisson_distribution\n",
    "\n",
    "11 - https://towardsdatascience.com/the-poisson-distribution-and-poisson-process-explained-4e2cb17d459\n",
    "\n",
    "12 - https://numpy.org/doc/stable/reference/random/generated/numpy.random.Generator.exponential.html#numpy.random.Generator.exponential\n",
    "\n",
    "13 - https://numpy.org/doc/stable/reference/random/generated/numpy.random.Generator.uniform.html#numpy.random.Generator.uniform\n",
    "\n",
    "14 - https://www.dataquest.io/blog/basic-statistics-in-python-probability/\n",
    "\n",
    "15 - https://numpy.org/doc/stable/reference/random/generated/numpy.random.Generator.normal.html#numpy.random.Generator.normal\n",
    "\n",
    "16 - https://www.sharpsightlabs.com/blog/numpy-random-seed/\n",
    "\n",
    "17 - https://numpy.org/doc/1.19/reference/random/generated/numpy.random.Generator.bytes.html#numpy.random.Generator.bytes\n",
    "\n",
    "18 - https://en.wikipedia.org/wiki/Probability_distribution"
   ]
  }
 ],
 "metadata": {
  "kernelspec": {
   "display_name": "Python 3",
   "language": "python",
   "name": "python3"
  },
  "language_info": {
   "codemirror_mode": {
    "name": "ipython",
    "version": 3
   },
   "file_extension": ".py",
   "mimetype": "text/x-python",
   "name": "python",
   "nbconvert_exporter": "python",
   "pygments_lexer": "ipython3",
   "version": "3.7.4"
  }
 },
 "nbformat": 4,
 "nbformat_minor": 2
}
