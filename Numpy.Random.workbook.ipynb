{
 "cells": [
  {
   "cell_type": "markdown",
   "metadata": {},
   "source": [
    "# Numpy.Random\n",
    "\n",
    "## Purpose of the Package"
   ]
  },
  {
   "cell_type": "code",
   "execution_count": 1,
   "metadata": {},
   "outputs": [],
   "source": [
    "# Firstly import all modules\n",
    "import numpy as np\n",
    "import pandas as pd\n",
    "import matplotlib.pyplot as plt\n",
    "import seaborn as sns"
   ]
  },
  {
   "cell_type": "markdown",
   "metadata": {},
   "source": [
    "#### What is Numpy & Numpy.random\n",
    "\n",
    "\"Numpy (Numerical Python) is an open source Python library that’s used in almost every field of science and engineering. It’s the universal standard for working with numerical data in Python, and it’s at the core of the scientific Python and PyData ecosystems.[1]\n",
    "\n",
    "Numpy.random is a built in package within Numpy which can produce pseudo random nunbers using combinations of a BitGenerator to create sequences and a generator to use those sequences to sample form different statistical distributions[2]. Essentially numpy.random generates whole arrays of seemingly random data spread across a probability distribution.\n",
    "\n",
    "From randomising initial weights in an artificial nerural network, splitting data into random sets, or shuffling the data within your dataset, the ability ot generate random data is essential to any data analyst/ statistician or enthusiast."
   ]
  },
  {
   "cell_type": "markdown",
   "metadata": {},
   "source": [
    "## Simple Random Data\n",
    "\n",
    "From the Random Generator documentation[3] there are 4 sub-categories of simple random data generators:\n",
    "\n",
    "1. integers (rng.integers)\n",
    "2. random (rng.random)\n",
    "3. choice (rng.choice)\n",
    "4. bytes (.bytes)\n"
   ]
  },
  {
   "cell_type": "markdown",
   "metadata": {},
   "source": [
    "#### 1. Integers (rng.integers)\n",
    "Generator.integers(low, high=None, size=None, dtype=np.int64, endpoint=False)\n",
    "      \n",
    "      \"Returns random integers from low(inclusive) to hight(exclusiuve),or if endpoint=True, low (inclusive) to high (inclusive)\"[4]\n",
    "      \n",
    "The above essentially means that .integers returns random integers inclusive of the low, up to but not including the high point. It will return an invclusive endpoint if endpoint = Ture\n",
    "   \n",
    "Let's explore the above in a bit more detail."
   ]
  },
  {
   "cell_type": "code",
   "execution_count": 2,
   "metadata": {},
   "outputs": [
    {
     "data": {
      "text/plain": [
       "array([0, 0, 1, 0, 0, 1, 0, 0, 1, 1, 1, 0, 1, 2, 0], dtype=int64)"
      ]
     },
     "execution_count": 2,
     "metadata": {},
     "output_type": "execute_result"
    }
   ],
   "source": [
    "rng = np.random.default_rng()\n",
    "rng.integers(3,size=(15))"
   ]
  },
  {
   "cell_type": "markdown",
   "metadata": {},
   "source": [
    "So we can see in the above output is an array of 15 numbers between 0 & 2, so therefore our rng.integers(3, size=15) has used the low of 3 as an exclusive endpoint and 0 as an inclusive startpoint, this is due tpo no endpoint being provided, the size =15 is quite obviously the number of ints to be produced.\n",
    "\n",
    "We can further amend our code to provide even more dynamic arrays, for example a 3x15 array"
   ]
  },
  {
   "cell_type": "code",
   "execution_count": 3,
   "metadata": {
    "scrolled": true
   },
   "outputs": [
    {
     "data": {
      "text/plain": [
       "array([[1, 2, 2, 2, 2, 0, 2, 2, 2, 0, 0, 2, 1, 1, 1],\n",
       "       [0, 2, 2, 0, 2, 2, 1, 1, 2, 0, 1, 2, 1, 1, 1],\n",
       "       [1, 1, 0, 2, 2, 0, 2, 0, 2, 1, 2, 1, 1, 0, 1]], dtype=int64)"
      ]
     },
     "execution_count": 3,
     "metadata": {},
     "output_type": "execute_result"
    }
   ],
   "source": [
    "rng.integers(3,size=(3,15))"
   ]
  },
  {
   "cell_type": "markdown",
   "metadata": {},
   "source": [
    "Ok, so let's explore how the random numbers are distributed when generated rtandomly between 1 & 4. In order to get a fair representation of how these numbers are distriburted we will pass in a size of 1,000. We should expect about 250 results for each number between 1 - 4 if the selection is following the “discrete uniform” distribution."
   ]
  },
  {
   "cell_type": "code",
   "execution_count": 4,
   "metadata": {
    "scrolled": true
   },
   "outputs": [],
   "source": [
    "xint = rng.integers(1, 5,size = 1000)"
   ]
  },
  {
   "cell_type": "code",
   "execution_count": 5,
   "metadata": {
    "scrolled": true
   },
   "outputs": [
    {
     "data": {
      "image/png": "[encoded data removed]",
      "text/plain": [
       "<Figure size 360x360 with 1 Axes>"
      ]
     },
     "metadata": {
      "needs_background": "light"
     },
     "output_type": "display_data"
    }
   ],
   "source": [
    "ax = sns.displot(xint,bins = [1,2,3,4,5])\n",
    "ax.set(xlabel = \"Integers\")\n",
    "plt.show()"
   ]
  },
  {
   "cell_type": "markdown",
   "metadata": {},
   "source": [
    "So for a sample size of 1000, we get a somewhat even distribution, but not quite what we had envisioned. If we increase the size of the array, we should see the graph trend towards a more even distribution. (size = 10,000)"
   ]
  },
  {
   "cell_type": "code",
   "execution_count": 6,
   "metadata": {},
   "outputs": [],
   "source": [
    "xint = rng.integers(1, 5,size = 10000)"
   ]
  },
  {
   "cell_type": "code",
   "execution_count": 7,
   "metadata": {},
   "outputs": [
    {
     "data": {
      "image/png": "[encoded data removed]",
      "text/plain": [
       "<Figure size 360x360 with 1 Axes>"
      ]
     },
     "metadata": {
      "needs_background": "light"
     },
     "output_type": "display_data"
    }
   ],
   "source": [
    "ax = sns.displot(xint,bins = [1,2,3,4,5])\n",
    "ax.set(xlabel = \"Integers\")\n",
    "plt.show()"
   ]
  },
  {
   "cell_type": "markdown",
   "metadata": {},
   "source": [
    "The results of are trending towards an even distribution of 25% each, we can expect as as size variable increases the graphed variance in cumulative results will decrease. "
   ]
  },
  {
   "cell_type": "markdown",
   "metadata": {},
   "source": [
    "#### 2. Random (rng.random)\n",
    "Generator.random(size=None, dtype=np.float64, out=None)\n",
    "    \n",
    "    \"Return random floats in the half-open interval [0.0, 1.0].[5]\"\n",
    "    \n",
    "So rng.random will provide and array of random floating point numbers between 0 and 1, of a specified size.\n",
    "\n",
    "Let's see what this means."
   ]
  },
  {
   "cell_type": "code",
   "execution_count": 8,
   "metadata": {},
   "outputs": [
    {
     "data": {
      "text/plain": [
       "0.5054105858909381"
      ]
     },
     "execution_count": 8,
     "metadata": {},
     "output_type": "execute_result"
    }
   ],
   "source": [
    "rng = np.random.default_rng()\n",
    "xrand = rng.random()\n",
    "xrand"
   ]
  },
  {
   "cell_type": "markdown",
   "metadata": {},
   "source": [
    "Above we can see rng.random has produced a floating point number between 0 & 1, see type check below:"
   ]
  },
  {
   "cell_type": "code",
   "execution_count": 9,
   "metadata": {},
   "outputs": [
    {
     "data": {
      "text/plain": [
       "float"
      ]
     },
     "execution_count": 9,
     "metadata": {},
     "output_type": "execute_result"
    }
   ],
   "source": [
    "type(xrand)"
   ]
  },
  {
   "cell_type": "markdown",
   "metadata": {},
   "source": [
    "So as with rng.integers above we will see what sort of distribution the integers are produced at ofr 1000 results."
   ]
  },
  {
   "cell_type": "code",
   "execution_count": 10,
   "metadata": {},
   "outputs": [],
   "source": [
    "xrand = rng.random(1000)"
   ]
  },
  {
   "cell_type": "code",
   "execution_count": 11,
   "metadata": {},
   "outputs": [
    {
     "data": {
      "image/png": "[encoded data removed]",
      "text/plain": [
       "<Figure size 360x360 with 1 Axes>"
      ]
     },
     "metadata": {
      "needs_background": "light"
     },
     "output_type": "display_data"
    }
   ],
   "source": [
    "ax = sns.displot(xrand)\n",
    "ax.set(xlabel = \"Random Floats\")\n",
    "plt.show()"
   ]
  },
  {
   "cell_type": "markdown",
   "metadata": {},
   "source": [
    "Do we see the same results as before with the graph trending towards an even distribution when increasing the size of our array?"
   ]
  },
  {
   "cell_type": "code",
   "execution_count": 12,
   "metadata": {},
   "outputs": [
    {
     "data": {
      "image/png": "[encoded data removed]",
      "text/plain": [
       "<Figure size 360x360 with 1 Axes>"
      ]
     },
     "metadata": {
      "needs_background": "light"
     },
     "output_type": "display_data"
    }
   ],
   "source": [
    "xrand = rng.random(10000)\n",
    "ax = sns.displot(xrand)\n",
    "ax.set(xlabel = \"Random Floats\")\n",
    "plt.show()"
   ]
  },
  {
   "cell_type": "markdown",
   "metadata": {},
   "source": [
    "It appears that the vaiance is slightly less than a size of 1000, but the difference here is not as pronounced as with the random.integers function, however the overall distribution appears to be fairly even it may be necessary to expand the size of the array further to get better data:\n"
   ]
  },
  {
   "cell_type": "code",
   "execution_count": 13,
   "metadata": {},
   "outputs": [
    {
     "data": {
      "image/png": "[encoded data removed]",
      "text/plain": [
       "<Figure size 360x360 with 1 Axes>"
      ]
     },
     "metadata": {
      "needs_background": "light"
     },
     "output_type": "display_data"
    }
   ],
   "source": [
    "xrand = rng.random(100000)\n",
    "ax = sns.displot(xrand)\n",
    "ax.set(xlabel = \"Random Floats\")\n",
    "plt.show()"
   ]
  },
  {
   "cell_type": "markdown",
   "metadata": {},
   "source": [
    "As we can see from above, the graphs are again tranding towards a uniform distribution. We can explian the requirement for further increasing the size of the array's to see the same results given that we were instructing Numpy to select floats at random between 0 &  1, rather than just pick one of 4 as per rng.integers above."
   ]
  },
  {
   "cell_type": "markdown",
   "metadata": {},
   "source": [
    "#### 3. Choice (rng.choice)\n",
    "\n",
    " Generator.choice(a, size=None, replace=True, p=None, axis=0, shuffle=True)\n",
    " \n",
    "     \"Generates a random sample from a given 1-D array\"[6]\n",
    "     \n",
    "Pretty self-explainatory - let's see how the random sampling works in practice."
   ]
  },
  {
   "cell_type": "code",
   "execution_count": 14,
   "metadata": {},
   "outputs": [
    {
     "data": {
      "text/plain": [
       "array([3, 2, 3, 1, 0, 3, 2, 1, 1, 1, 3, 1, 3, 0, 0, 1, 2, 2, 1, 0, 2, 3,\n",
       "       3, 1, 3, 3, 3, 2, 3, 0, 2, 2, 0, 0, 2, 1, 1, 3, 0, 0, 2, 3, 3, 0,\n",
       "       3, 0, 1, 3, 3, 1], dtype=int64)"
      ]
     },
     "execution_count": 14,
     "metadata": {},
     "output_type": "execute_result"
    }
   ],
   "source": [
    "rng.choice(4, 50)"
   ]
  },
  {
   "cell_type": "markdown",
   "metadata": {},
   "source": [
    "Above the choice function seems to pick integers between a start point of 0 and an exclusive endpoint of 4, or as the documentation states and array of np.arrange(a) where a is the first argument of the function (in our case above: 4). rng.choice(a, 50) will return 50 results. As per the above modules, let's map this out in visual data and see how rng.choice's distribution will compare."
   ]
  },
  {
   "cell_type": "code",
   "execution_count": 15,
   "metadata": {
    "scrolled": true
   },
   "outputs": [
    {
     "data": {
      "image/png": "[encoded data removed]",
      "text/plain": [
       "<Figure size 360x360 with 1 Axes>"
      ]
     },
     "metadata": {
      "needs_background": "light"
     },
     "output_type": "display_data"
    }
   ],
   "source": [
    "xcho = rng.choice((4), 1000)\n",
    "ax = sns.displot(xcho, bins= 4)\n",
    "ax.set(xlabel = \"Random Choices\")\n",
    "plt.show()"
   ]
  },
  {
   "cell_type": "markdown",
   "metadata": {},
   "source": [
    "As with the previous modules we will expand out the size of the array and we should see our resultant graph trend towards a uniform distribution."
   ]
  },
  {
   "cell_type": "code",
   "execution_count": 31,
   "metadata": {},
   "outputs": [
    {
     "data": {
      "image/png": "[encoded data removed]",
      "text/plain": [
       "<Figure size 360x360 with 1 Axes>"
      ]
     },
     "metadata": {
      "needs_background": "light"
     },
     "output_type": "display_data"
    }
   ],
   "source": [
    "xcho = rng.choice((4), 10000)\n",
    "ax = sns.displot(xcho, bins = 4) \n",
    "ax.set(xlabel = \"Random Choices\")\n",
    "plt.show()"
   ]
  },
  {
   "cell_type": "markdown",
   "metadata": {},
   "source": [
    "One quirk of the rng.choice function is that we can weight the results using the 'p' argument. In the below graph we should see our 4 random choices weighted per our p argument, the weighhts correspond to the indexes of the np.arrange(n) discussed above."
   ]
  },
  {
   "cell_type": "code",
   "execution_count": 131,
   "metadata": {
    "scrolled": true
   },
   "outputs": [
    {
     "data": {
      "image/png": "[encoded data removed]",
      "text/plain": [
       "<Figure size 360x360 with 1 Axes>"
      ]
     },
     "metadata": {
      "needs_background": "light"
     },
     "output_type": "display_data"
    }
   ],
   "source": [
    "xcho = rng.choice((4), 10000,  p=[0.1, 0, 0.3, 0.6])\n",
    "ax = sns.displot(xcho, bins  = 4)\n",
    "ax.set(xlabel = \"Random Choices\")\n",
    "plt.show()"
   ]
  },
  {
   "cell_type": "code",
   "execution_count": 33,
   "metadata": {},
   "outputs": [
    {
     "data": {
      "text/plain": [
       "array([2, 2, 3, ..., 3, 2, 3], dtype=int64)"
      ]
     },
     "execution_count": 33,
     "metadata": {},
     "output_type": "execute_result"
    }
   ],
   "source": [
    "xcho"
   ]
  },
  {
   "cell_type": "markdown",
   "metadata": {},
   "source": [
    "## Permutations"
   ]
  },
  {
   "cell_type": "markdown",
   "metadata": {},
   "source": [
    "The next sub-category within the numpy.random package is Permuations, which deals with the re-arranging or mixing of values within an array or sequence, without changing it's overall contents. The two modules are: \n",
    "\n",
    "1. shuffle\n",
    "2. permutation"
   ]
  },
  {
   "cell_type": "markdown",
   "metadata": {},
   "source": [
    "### 1. Shuffle\n",
    "\n",
    " Generator.shuffle(x, axis=0)\n",
    "     \n",
    "     \"Modify a sequence in-place by shuffling its contents.\n",
    "      The order of sub-arrays is changed but their contents remains the same.\"[7]\n",
    "      \n",
    "The above is fair concise, so let's see what happens in practice when we use this shuffle method."
   ]
  },
  {
   "cell_type": "markdown",
   "metadata": {},
   "source": [
    "We will just start with a random array of numbers"
   ]
  },
  {
   "cell_type": "code",
   "execution_count": 18,
   "metadata": {},
   "outputs": [
    {
     "data": {
      "text/plain": [
       "array([5, 3, 8, 1, 2, 4, 8, 7, 7, 6], dtype=int64)"
      ]
     },
     "execution_count": 18,
     "metadata": {},
     "output_type": "execute_result"
    }
   ],
   "source": [
    "shuf = rng.integers(1, 10, size = 10)\n",
    "shuf"
   ]
  },
  {
   "cell_type": "markdown",
   "metadata": {},
   "source": [
    "Now we will pass our array shuf through the shuffle function as an argument, the position or each value has now been shuffled. It is worth noting that this shuffle changes the value of the variable shuf to the new arrangement. i.e when we call shuf from this point on we will get the now-shuffled list/array back."
   ]
  },
  {
   "cell_type": "code",
   "execution_count": 19,
   "metadata": {},
   "outputs": [
    {
     "data": {
      "text/plain": [
       "array([8, 7, 6, 4, 3, 7, 2, 8, 1, 5], dtype=int64)"
      ]
     },
     "execution_count": 19,
     "metadata": {},
     "output_type": "execute_result"
    }
   ],
   "source": [
    "rng.shuffle(shuf)\n",
    "shuf"
   ]
  },
  {
   "cell_type": "markdown",
   "metadata": {},
   "source": [
    "### 2. Permutation\n",
    "\n",
    " Generator.permutation(x, axis=0)\n",
    " \n",
    "     \"Randomly permute a sequence, or return a permuted range.\"[8]\n",
    "     \n",
    "As with the above, the description of what this function does is stragight forward, let's see what it does."
   ]
  },
  {
   "cell_type": "code",
   "execution_count": 20,
   "metadata": {},
   "outputs": [
    {
     "data": {
      "text/plain": [
       "array([4, 9, 9, 5, 6, 5, 4, 1, 7, 2], dtype=int64)"
      ]
     },
     "execution_count": 20,
     "metadata": {},
     "output_type": "execute_result"
    }
   ],
   "source": [
    "perm = rng.integers(1, 10, size = 10)\n",
    "perm"
   ]
  },
  {
   "cell_type": "code",
   "execution_count": 21,
   "metadata": {},
   "outputs": [
    {
     "data": {
      "text/plain": [
       "array([1, 9, 5, 4, 9, 6, 2, 4, 7, 5], dtype=int64)"
      ]
     },
     "execution_count": 21,
     "metadata": {},
     "output_type": "execute_result"
    }
   ],
   "source": [
    "rng.permutation(perm)"
   ]
  },
  {
   "cell_type": "markdown",
   "metadata": {},
   "source": [
    "Ok, we can see that the aray has been permuted, but when we call the perm variable, below, we can see that the original array is returned, so unlike shuffle, permutation will not change the status of the varialbe passed through the function. in order to capture the permutation and use it again, we must assign a varialbe to it."
   ]
  },
  {
   "cell_type": "code",
   "execution_count": 22,
   "metadata": {},
   "outputs": [
    {
     "data": {
      "text/plain": [
       "array([4, 9, 9, 5, 6, 5, 4, 1, 7, 2], dtype=int64)"
      ]
     },
     "execution_count": 22,
     "metadata": {},
     "output_type": "execute_result"
    }
   ],
   "source": [
    "perm"
   ]
  },
  {
   "cell_type": "code",
   "execution_count": 23,
   "metadata": {},
   "outputs": [
    {
     "data": {
      "text/plain": [
       "array([4, 5, 2, 6, 1, 4, 5, 7, 9, 9], dtype=int64)"
      ]
     },
     "execution_count": 23,
     "metadata": {},
     "output_type": "execute_result"
    }
   ],
   "source": [
    "perm2= rng.permutation(perm)\n",
    "perm2"
   ]
  },
  {
   "cell_type": "code",
   "execution_count": 24,
   "metadata": {},
   "outputs": [
    {
     "name": "stdout",
     "output_type": "stream",
     "text": [
      "[4 9 9 5 6 5 4 1 7 2]\n",
      "[4 5 2 6 1 4 5 7 9 9]\n"
     ]
    }
   ],
   "source": [
    "print(perm)\n",
    "print(perm2)"
   ]
  },
  {
   "cell_type": "code",
   "execution_count": null,
   "metadata": {},
   "outputs": [],
   "source": []
  },
  {
   "cell_type": "markdown",
   "metadata": {},
   "source": [
    "## Distributions\n",
    "\n",
    "1. Binomial\n",
    "2. Poisson\n",
    "3. Standard Normal\n",
    "4. Uniform\n",
    "5. Normal (Gaussian)"
   ]
  },
  {
   "cell_type": "code",
   "execution_count": null,
   "metadata": {},
   "outputs": [],
   "source": []
  },
  {
   "cell_type": "markdown",
   "metadata": {},
   "source": [
    "### 1. Binomial\n",
    "\n",
    " Generator.binomial(n, p, size=None)\n",
    " \n",
    "        \"Samples are drawn from a binomial distribution with specified parameters, n trials and p probability of success where n an integer >= 0 and p is in the interval [0,1]. (n may be input as a float, but it is truncated to an integer in use)\"\n",
    "\n",
    "The binomial distribution model operates on four key assumptions:\n",
    "        1. Each cycle has one of two possible outcomes (success & failure)\n",
    "        2. The probability of success is the same for each cycle\n",
    "        3. Each cycle is independent of the others\n",
    "        4. The number of trials carried out is a set number"
   ]
  },
  {
   "cell_type": "markdown",
   "metadata": {},
   "source": [
    "So the Binomial distribution calculates the probability of success of a scenario with 2 distinct possible outcomes, l;eading it to be refferred to as a discrete probability function. Very often you will find people refer to the toss of a coin as an example of what the binomial distribution can calculate.\n",
    "\n",
    "Calculating the probability one specific side of a dice appears, let's say 2 times in 6 rolls, is another equally attributable game of chance we can apply. Firstly let's do a quick calculation on what is the rough result we would expect to see for the 2 sides of a die to appear in 6 rolls:\n",
    "        Probability of our designated side appearing in one roll: 1/6\n",
    "        Probability of our designated side appearing in two rolls: (1/6)^2\n",
    "        Probability of other side appearing in one roll: 5/6\n",
    "        Probability of other side appearing in four roll: (5/6)^4\n",
    "        Number of possible success permuations: 6c2 (nCr)= 15[9]"
   ]
  },
  {
   "cell_type": "code",
   "execution_count": 133,
   "metadata": {},
   "outputs": [
    {
     "data": {
      "text/plain": [
       "0.20093878600823045"
      ]
     },
     "execution_count": 133,
     "metadata": {},
     "output_type": "execute_result"
    }
   ],
   "source": [
    "probcalc = (((1/6)**2)*((5/6)**4))*15\n",
    "probcalc"
   ]
  },
  {
   "cell_type": "markdown",
   "metadata": {},
   "source": [
    "Working it out, roughly, we get a 20% chance that on 6 rolls of a dice, our desinated side will appear two times.\n",
    "\n",
    "So we are expecting the chances that we roll six of the same number in six rolls to be in line with the above value for x. We can calculate this out suing the binomial function in numpy. Graphing this out we can see the distribution of the number of successes in our six rolls, across our desired sample size. "
   ]
  },
  {
   "cell_type": "code",
   "execution_count": 134,
   "metadata": {},
   "outputs": [
    {
     "data": {
      "text/plain": [
       "0.1997"
      ]
     },
     "execution_count": 134,
     "metadata": {},
     "output_type": "execute_result"
    }
   ],
   "source": [
    "binom = rng.binomial(6, 0.1666667, 10000)\n",
    "binom2 = (sum(rng.binomial(6, 0.1666667, 10000)==2)/10000)\n",
    "binom2"
   ]
  },
  {
   "cell_type": "markdown",
   "metadata": {},
   "source": [
    "Given 10,000 tests we can see that the probability of getting 2 successful results is indeed roughly 20% when we run our np.random.binomial() function. We can graph this information. So using the binomial expansions in numpy, we can easily recreate scenarios such as a dice roll, high/low card games and the flip of a coin."
   ]
  },
  {
   "cell_type": "code",
   "execution_count": 132,
   "metadata": {},
   "outputs": [
    {
     "data": {
      "image/png": "[encoded data removed]",
      "text/plain": [
       "<Figure size 360x360 with 1 Axes>"
      ]
     },
     "metadata": {
      "needs_background": "light"
     },
     "output_type": "display_data"
    }
   ],
   "source": [
    "binom = rng.binomial(6, 0.1666667, 10000)\n",
    "ax = sns.displot(binom)\n",
    "ax.set(xlabel = \"# of Successes\")\n",
    "plt.show()"
   ]
  },
  {
   "cell_type": "code",
   "execution_count": null,
   "metadata": {},
   "outputs": [],
   "source": []
  },
  {
   "cell_type": "code",
   "execution_count": null,
   "metadata": {},
   "outputs": [],
   "source": []
  },
  {
   "cell_type": "markdown",
   "metadata": {},
   "source": [
    "### Poisson Distribution\n",
    "\n",
    "Generator.poisson(lam=1.0, size=None)\n",
    " \n",
    "        \"Draw samples from a Poisson distribution.\n",
    "         The Poisson distribution is the limit of the binomial distribution for large N.\"\n",
    "         \n",
    "Another discrete probability distribution, Poisson expresses the probability of how manyevents can happene in a fixed interval of time, if there events occur with a known continuous average rate and independently of the time since the last event.[10] \n",
    "\n",
    "As with the binomial diustribution there some assumptions which must be met before the Poisson distribution can be applied:\n",
    "    1. k is the number of times an event occurs in an interval and k can take valiues 0,1,2.....\n",
    "    2. The occurrance of one event does not change the probabilty that a second event will occur\n",
    "    3."
   ]
  },
  {
   "cell_type": "code",
   "execution_count": 137,
   "metadata": {},
   "outputs": [],
   "source": [
    "poiss = rng.poisson(4,1000)"
   ]
  },
  {
   "cell_type": "code",
   "execution_count": 139,
   "metadata": {},
   "outputs": [
    {
     "data": {
      "image/png": "[encoded data removed]",
      "text/plain": [
       "<Figure size 360x360 with 1 Axes>"
      ]
     },
     "metadata": {
      "needs_background": "light"
     },
     "output_type": "display_data"
    }
   ],
   "source": [
    "\n",
    "ax = sns.displot(poiss, bins = [1,2,3,4,5,6,7,8,9,10,11,12,13,14])\n",
    "ax.set(xlabel = \"#\")\n",
    "plt.show()"
   ]
  },
  {
   "cell_type": "code",
   "execution_count": null,
   "metadata": {},
   "outputs": [],
   "source": []
  },
  {
   "cell_type": "code",
   "execution_count": null,
   "metadata": {},
   "outputs": [],
   "source": []
  },
  {
   "cell_type": "code",
   "execution_count": null,
   "metadata": {},
   "outputs": [],
   "source": []
  },
  {
   "cell_type": "code",
   "execution_count": null,
   "metadata": {},
   "outputs": [],
   "source": []
  },
  {
   "cell_type": "code",
   "execution_count": null,
   "metadata": {},
   "outputs": [],
   "source": []
  },
  {
   "cell_type": "code",
   "execution_count": null,
   "metadata": {},
   "outputs": [],
   "source": [
    "\n"
   ]
  },
  {
   "cell_type": "code",
   "execution_count": null,
   "metadata": {},
   "outputs": [],
   "source": []
  },
  {
   "cell_type": "code",
   "execution_count": null,
   "metadata": {},
   "outputs": [],
   "source": []
  },
  {
   "cell_type": "code",
   "execution_count": null,
   "metadata": {},
   "outputs": [],
   "source": []
  },
  {
   "cell_type": "code",
   "execution_count": null,
   "metadata": {},
   "outputs": [],
   "source": []
  },
  {
   "cell_type": "code",
   "execution_count": null,
   "metadata": {},
   "outputs": [],
   "source": []
  },
  {
   "cell_type": "code",
   "execution_count": null,
   "metadata": {},
   "outputs": [],
   "source": []
  },
  {
   "cell_type": "code",
   "execution_count": null,
   "metadata": {},
   "outputs": [],
   "source": []
  },
  {
   "cell_type": "markdown",
   "metadata": {},
   "source": [
    "References:\n",
    "\n",
    "1 - https://numpy.org/doc/stable/user/absolute_beginners.html\n",
    "\n",
    "2 - https://numpy.org/doc/stable/reference/random/index.html\n",
    "\n",
    "3 - https://numpy.org/doc/stable/reference/random/generator.html\n",
    "\n",
    "4 - https://numpy.org/doc/stable/reference/random/generated/numpy.random.Generator.integers.html#numpy.random.Generator.integers\n",
    "\n",
    "5 - https://numpy.org/doc/stable/reference/random/generated/numpy.random.Generator.random.html#numpy.random.Generator.random\n",
    "\n",
    "6 - https://numpy.org/doc/stable/reference/random/generated/numpy.random.Generator.choice.html#numpy.random.Generator.choice\n",
    "\n",
    "7 - https://numpy.org/doc/stable/reference/random/generated/numpy.random.Generator.shuffle.html#numpy.random.Generator.shuffle\n",
    "\n",
    "8 - https://numpy.org/doc/stable/reference/random/generated/numpy.random.Generator.permutation.html#numpy.random.Generator.permutation\n",
    "\n",
    "9 - https://en.wikipedia.org/wiki/Combination\n",
    "\n",
    "10 - https://en.wikipedia.org/wiki/Poisson_distribution"
   ]
  }
 ],
 "metadata": {
  "kernelspec": {
   "display_name": "Python 3",
   "language": "python",
   "name": "python3"
  },
  "language_info": {
   "codemirror_mode": {
    "name": "ipython",
    "version": 3
   },
   "file_extension": ".py",
   "mimetype": "text/x-python",
   "name": "python",
   "nbconvert_exporter": "python",
   "pygments_lexer": "ipython3",
   "version": "3.7.4"
  }
 },
 "nbformat": 4,
 "nbformat_minor": 2
}
