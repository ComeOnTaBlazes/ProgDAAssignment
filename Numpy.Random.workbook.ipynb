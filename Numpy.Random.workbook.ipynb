{
 "cells": [
  {
   "cell_type": "markdown",
   "metadata": {},
   "source": [
    "# Numpy.Random\n",
    "\n",
    "## Purpose of the Package"
   ]
  },
  {
   "cell_type": "code",
   "execution_count": 1,
   "metadata": {},
   "outputs": [],
   "source": [
    "# Firstly import all modules\n",
    "import numpy as np\n",
    "import pandas as pd\n",
    "import matplotlib.pyplot as plt\n",
    "import seaborn as sns"
   ]
  },
  {
   "cell_type": "markdown",
   "metadata": {},
   "source": [
    "#### What is Numpy & Numpy.random\n",
    "\n",
    "\"Numpy (Numerical Python) is an open source Python library that’s used in almost every field of science and engineering. It’s the universal standard for working with numerical data in Python, and it’s at the core of the scientific Python and PyData ecosystems.[1]\n",
    "\n",
    "Numpy.random is a built in package within Numpy which can produce pseudo random nunbers using combinations of a BitGenerator to create sequences and a generator to use those sequences to sample form different statistical distributions[2]. Essentially numpy.random generates whole arrays of seemingly random data spread across a probability distribution.\n",
    "\n",
    "From randomising initial weights in an artificial nerural network, splitting data into random sets, or shuffling the data within your dataset, the ability ot generate random data is essential to any data analyst/ statistician or enthusiast."
   ]
  },
  {
   "cell_type": "markdown",
   "metadata": {},
   "source": [
    "## Simple Random Data\n",
    "\n",
    "From the Random Generator documentation[3] there are 4 sub-categories of simple random data generators:\n",
    "\n",
    "1. integers (rng.integers)\n",
    "2. random (rng.random)\n",
    "3. choice (rng.choice)\n",
    "4. bytes (.bytes)\n"
   ]
  },
  {
   "cell_type": "markdown",
   "metadata": {},
   "source": [
    "#### 1. Integers (rng.integers)\n",
    "Generator.integers(low, high=None, size=None, dtype=np.int64, endpoint=False)\n",
    "      \n",
    "      \"Returns random integers from low(inclusive) to hight(exclusiuve),or if endpoint=True, low (inclusive) to high (inclusive)\"[4]\n",
    "      \n",
    "The above essentially means that .integers returns random integers inclusive of the low, up to but not including the high point. It will return an invclusive endpoint if endpoint = Ture\n",
    "   \n",
    "Let's explore the above in a bit more detail."
   ]
  },
  {
   "cell_type": "code",
   "execution_count": 2,
   "metadata": {},
   "outputs": [
    {
     "data": {
      "text/plain": [
       "array([0, 1, 0, 0, 1, 0, 0, 1, 1, 0, 1, 2, 0, 0, 0], dtype=int64)"
      ]
     },
     "execution_count": 2,
     "metadata": {},
     "output_type": "execute_result"
    }
   ],
   "source": [
    "rng = np.random.default_rng()\n",
    "rng.integers(3,size=(15))"
   ]
  },
  {
   "cell_type": "markdown",
   "metadata": {},
   "source": [
    "So we can see in the above output is an array of 15 numbers between 0 & 2, so therefore our rng.integers(3, size=15) has used the low of 3 as an exclusive endpoint and 0 as an inclusive startpoint, this is due tpo no endpoint being provided, the size =15 is quite obviously the number of ints to be produced.\n",
    "\n",
    "We can further amend our code to provide even more dynamic arrays, for example a 3x15 array"
   ]
  },
  {
   "cell_type": "code",
   "execution_count": 3,
   "metadata": {
    "scrolled": true
   },
   "outputs": [
    {
     "data": {
      "text/plain": [
       "array([[2, 2, 0, 1, 1, 1, 1, 1, 1, 0, 2, 0, 1, 0, 2],\n",
       "       [2, 0, 2, 0, 2, 0, 1, 2, 0, 1, 0, 1, 0, 1, 0],\n",
       "       [0, 1, 0, 1, 0, 1, 1, 1, 1, 2, 2, 2, 0, 1, 1]], dtype=int64)"
      ]
     },
     "execution_count": 3,
     "metadata": {},
     "output_type": "execute_result"
    }
   ],
   "source": [
    "rng.integers(3,size=(3,15))"
   ]
  },
  {
   "cell_type": "markdown",
   "metadata": {},
   "source": [
    "Ok, so let's explore how the random numbers are distributed when generated rtandomly between 1 & 4. In order to get a fair representation of how these numbers are distriburted we will pass in a size of 1,000. We should expect about 250 results for each number between 1 - 4 if the selection is following the “discrete uniform” distribution."
   ]
  },
  {
   "cell_type": "code",
   "execution_count": 4,
   "metadata": {
    "scrolled": true
   },
   "outputs": [],
   "source": [
    "xint = rng.integers(1, 5,size = 1000)"
   ]
  },
  {
   "cell_type": "code",
   "execution_count": 5,
   "metadata": {
    "scrolled": true
   },
   "outputs": [
    {
     "data": {
      "image/png": "[encoded data removed]",
      "text/plain": [
       "<Figure size 360x360 with 1 Axes>"
      ]
     },
     "metadata": {
      "needs_background": "light"
     },
     "output_type": "display_data"
    }
   ],
   "source": [
    "ax = sns.displot(xint,bins = [1,2,3,4,5])\n",
    "ax.set(xlabel = \"Integers\")\n",
    "plt.title(\"Integers between 1 & 4 @ 1,000 values\")\n",
    "plt.show()"
   ]
  },
  {
   "cell_type": "markdown",
   "metadata": {},
   "source": [
    "So for a sample size of 1000, we get a somewhat even distribution, but not quite what we had envisioned. If we increase the size of the array, we should see the graph trend towards a more even distribution. (size = 10,000)"
   ]
  },
  {
   "cell_type": "code",
   "execution_count": 6,
   "metadata": {},
   "outputs": [],
   "source": [
    "xint = rng.integers(1, 5,size = 10000)"
   ]
  },
  {
   "cell_type": "code",
   "execution_count": 7,
   "metadata": {},
   "outputs": [
    {
     "data": {
      "image/png": "[encoded data removed]",
      "text/plain": [
       "<Figure size 360x360 with 1 Axes>"
      ]
     },
     "metadata": {
      "needs_background": "light"
     },
     "output_type": "display_data"
    }
   ],
   "source": [
    "ax = sns.displot(xint,bins = [1,2,3,4,5])\n",
    "plt.title(\"Integers between 1 & 4 @ 10,000 values\")\n",
    "ax.set(xlabel = \"Integers\")\n",
    "plt.show()"
   ]
  },
  {
   "cell_type": "markdown",
   "metadata": {},
   "source": [
    "The results of are trending towards an even distribution of 25% each, we can expect as as size variable increases the graphed variance in cumulative results will decrease. "
   ]
  },
  {
   "cell_type": "markdown",
   "metadata": {},
   "source": [
    "#### 2. Random (rng.random)\n",
    "Generator.random(size=None, dtype=np.float64, out=None)\n",
    "    \n",
    "    \"Return random floats in the half-open interval [0.0, 1.0].[5]\"\n",
    "    \n",
    "So rng.random will provide and array of random floating point numbers between 0 and 1, of a specified size.\n",
    "\n",
    "Let's see what this means."
   ]
  },
  {
   "cell_type": "code",
   "execution_count": 8,
   "metadata": {},
   "outputs": [
    {
     "data": {
      "text/plain": [
       "0.3282995120060911"
      ]
     },
     "execution_count": 8,
     "metadata": {},
     "output_type": "execute_result"
    }
   ],
   "source": [
    "rng = np.random.default_rng()\n",
    "xrand = rng.random()\n",
    "xrand"
   ]
  },
  {
   "cell_type": "markdown",
   "metadata": {},
   "source": [
    "Above we can see rng.random has produced a floating point number between 0 & 1, see type check below:"
   ]
  },
  {
   "cell_type": "code",
   "execution_count": 9,
   "metadata": {},
   "outputs": [
    {
     "data": {
      "text/plain": [
       "float"
      ]
     },
     "execution_count": 9,
     "metadata": {},
     "output_type": "execute_result"
    }
   ],
   "source": [
    "type(xrand)"
   ]
  },
  {
   "cell_type": "markdown",
   "metadata": {},
   "source": [
    "So as with rng.integers above we will see what sort of distribution the integers are produced at ofr 1000 results."
   ]
  },
  {
   "cell_type": "code",
   "execution_count": 10,
   "metadata": {},
   "outputs": [],
   "source": [
    "xrand = rng.random(1000)"
   ]
  },
  {
   "cell_type": "code",
   "execution_count": 11,
   "metadata": {},
   "outputs": [
    {
     "data": {
      "image/png": "[encoded data removed]",
      "text/plain": [
       "<Figure size 360x360 with 1 Axes>"
      ]
     },
     "metadata": {
      "needs_background": "light"
     },
     "output_type": "display_data"
    }
   ],
   "source": [
    "ax = sns.displot(xrand)\n",
    "ax.set(xlabel = \"Random Floats\")\n",
    "plt.title(\"Random() @ 1,000 Values\")\n",
    "plt.show()"
   ]
  },
  {
   "cell_type": "markdown",
   "metadata": {},
   "source": [
    "Do we see the same results as before with the graph trending towards an even distribution when increasing the size of our array?"
   ]
  },
  {
   "cell_type": "code",
   "execution_count": 12,
   "metadata": {},
   "outputs": [
    {
     "data": {
      "image/png": "[encoded data removed]",
      "text/plain": [
       "<Figure size 360x360 with 1 Axes>"
      ]
     },
     "metadata": {
      "needs_background": "light"
     },
     "output_type": "display_data"
    }
   ],
   "source": [
    "xrand = rng.random(10000)\n",
    "ax = sns.displot(xrand)\n",
    "ax.set(xlabel = \"Random Floats\")\n",
    "plt.title(\"Random() @ 10,000 Values\")\n",
    "plt.show()"
   ]
  },
  {
   "cell_type": "markdown",
   "metadata": {},
   "source": [
    "It appears that the vaiance is slightly less than a size of 1000, but the difference here is not as pronounced as with the random.integers function, however the overall distribution appears to be fairly even it may be necessary to expand the size of the array further to get better data:\n"
   ]
  },
  {
   "cell_type": "code",
   "execution_count": 13,
   "metadata": {},
   "outputs": [
    {
     "data": {
      "image/png": "[encoded data removed]",
      "text/plain": [
       "<Figure size 360x360 with 1 Axes>"
      ]
     },
     "metadata": {
      "needs_background": "light"
     },
     "output_type": "display_data"
    }
   ],
   "source": [
    "xrand = rng.random(100000)\n",
    "ax = sns.displot(xrand)\n",
    "ax.set(xlabel = \"Random Floats\")\n",
    "plt.title(\"Random() @ 100,000 Values\")\n",
    "plt.show()"
   ]
  },
  {
   "cell_type": "markdown",
   "metadata": {},
   "source": [
    "As we can see from above, the graphs are again tranding towards a uniform distribution. We can explian the requirement for further increasing the size of the array's to see the same results given that we were instructing Numpy to select floats at random between 0 &  1, rather than just pick one of 4 as per rng.integers above."
   ]
  },
  {
   "cell_type": "markdown",
   "metadata": {},
   "source": [
    "#### 3. Choice (rng.choice)\n",
    "\n",
    " Generator.choice(a, size=None, replace=True, p=None, axis=0, shuffle=True)\n",
    " \n",
    "     \"Generates a random sample from a given 1-D array\"[6]\n",
    "     \n",
    "Pretty self-explainatory - let's see how the random sampling works in practice."
   ]
  },
  {
   "cell_type": "code",
   "execution_count": 14,
   "metadata": {},
   "outputs": [
    {
     "data": {
      "text/plain": [
       "array([2, 3, 1, 1, 2, 3, 0, 3, 3, 1, 3, 0, 3, 0, 1, 1, 0, 3, 3, 3, 2, 0,\n",
       "       1, 2, 0, 1, 2, 1, 1, 1, 1, 0, 3, 1, 2, 3, 1, 3, 3, 3, 3, 2, 3, 0,\n",
       "       2, 3, 1, 2, 0, 1], dtype=int64)"
      ]
     },
     "execution_count": 14,
     "metadata": {},
     "output_type": "execute_result"
    }
   ],
   "source": [
    "rng.choice(4, 50)"
   ]
  },
  {
   "cell_type": "markdown",
   "metadata": {},
   "source": [
    "Above the choice function seems to pick integers between a start point of 0 and an exclusive endpoint of 4, or as the documentation states and array of np.arrange(a) where a is the first argument of the function (in our case above: 4). rng.choice(a, 50) will return 50 results. As per the above modules, let's map this out in visual data and see how rng.choice's distribution will compare."
   ]
  },
  {
   "cell_type": "code",
   "execution_count": 15,
   "metadata": {
    "scrolled": true
   },
   "outputs": [
    {
     "data": {
      "image/png": "[encoded data removed]",
      "text/plain": [
       "<Figure size 360x360 with 1 Axes>"
      ]
     },
     "metadata": {
      "needs_background": "light"
     },
     "output_type": "display_data"
    }
   ],
   "source": [
    "xcho = rng.choice((4), 1000)\n",
    "ax = sns.displot(xcho, bins= 4)\n",
    "ax.set(xlabel = \"Random Choices\")\n",
    "plt.title(\"Choice(0,4) @ 1,000 Values\")\n",
    "plt.show()"
   ]
  },
  {
   "cell_type": "markdown",
   "metadata": {},
   "source": [
    "As with the previous modules we will expand out the size of the array and we should see our resultant graph trend towards a uniform distribution."
   ]
  },
  {
   "cell_type": "code",
   "execution_count": 16,
   "metadata": {},
   "outputs": [
    {
     "data": {
      "image/png": "[encoded data removed]",
      "text/plain": [
       "<Figure size 360x360 with 1 Axes>"
      ]
     },
     "metadata": {
      "needs_background": "light"
     },
     "output_type": "display_data"
    }
   ],
   "source": [
    "xcho = rng.choice((4), 10000)\n",
    "ax = sns.displot(xcho, bins = 4) \n",
    "ax.set(xlabel = \"Random Choices\")\n",
    "plt.title(\"Choice (0,4) @ 10,000 Values\")\n",
    "plt.show()"
   ]
  },
  {
   "cell_type": "markdown",
   "metadata": {},
   "source": [
    "One quirk of the rng.choice function is that we can weight the results using the 'p' argument. In the below graph we should see our 4 random choices weighted per our p argument, the weighhts correspond to the indexes of the np.arrange(n) discussed above."
   ]
  },
  {
   "cell_type": "code",
   "execution_count": 17,
   "metadata": {
    "scrolled": true
   },
   "outputs": [
    {
     "data": {
      "image/png": "[encoded data removed]",
      "text/plain": [
       "<Figure size 360x360 with 1 Axes>"
      ]
     },
     "metadata": {
      "needs_background": "light"
     },
     "output_type": "display_data"
    }
   ],
   "source": [
    "xcho = rng.choice((4), 10000,  p=[0.1, 0, 0.3, 0.6])\n",
    "ax = sns.displot(xcho, bins  = 4)\n",
    "ax.set(xlabel = \"Random Choices\")\n",
    "plt.title(\"Weighted Choice (0.1, 0, 0.3, 0.6) @ 1,000 Values\")\n",
    "plt.show()"
   ]
  },
  {
   "cell_type": "code",
   "execution_count": 18,
   "metadata": {},
   "outputs": [
    {
     "data": {
      "text/plain": [
       "array([3, 3, 2, ..., 3, 2, 2], dtype=int64)"
      ]
     },
     "execution_count": 18,
     "metadata": {},
     "output_type": "execute_result"
    }
   ],
   "source": [
    "xcho"
   ]
  },
  {
   "cell_type": "markdown",
   "metadata": {},
   "source": [
    "## Permutations"
   ]
  },
  {
   "cell_type": "markdown",
   "metadata": {},
   "source": [
    "The next sub-category within the numpy.random package is Permuations, which deals with the re-arranging or mixing of values within an array or sequence, without changing it's overall contents. The two modules are: \n",
    "\n",
    "1. shuffle\n",
    "2. permutation"
   ]
  },
  {
   "cell_type": "markdown",
   "metadata": {},
   "source": [
    "### 1. Shuffle\n",
    "\n",
    " Generator.shuffle(x, axis=0)\n",
    "     \n",
    "     \"Modify a sequence in-place by shuffling its contents.\n",
    "      The order of sub-arrays is changed but their contents remains the same.\"[7]\n",
    "      \n",
    "The above is fair concise, so let's see what happens in practice when we use this shuffle method."
   ]
  },
  {
   "cell_type": "markdown",
   "metadata": {},
   "source": [
    "We will just start with a random array of numbers"
   ]
  },
  {
   "cell_type": "code",
   "execution_count": 19,
   "metadata": {},
   "outputs": [
    {
     "data": {
      "text/plain": [
       "array([7, 9, 7, 5, 1, 9, 7, 5, 4, 8], dtype=int64)"
      ]
     },
     "execution_count": 19,
     "metadata": {},
     "output_type": "execute_result"
    }
   ],
   "source": [
    "shuf = rng.integers(1, 10, size = 10)\n",
    "shuf"
   ]
  },
  {
   "cell_type": "markdown",
   "metadata": {},
   "source": [
    "Now we will pass our array shuf through the shuffle function as an argument, the position or each value has now been shuffled. It is worth noting that this shuffle changes the value of the variable shuf to the new arrangement. i.e when we call shuf from this point on we will get the now-shuffled list/array back."
   ]
  },
  {
   "cell_type": "code",
   "execution_count": 20,
   "metadata": {},
   "outputs": [
    {
     "data": {
      "text/plain": [
       "array([7, 7, 9, 8, 4, 5, 9, 1, 7, 5], dtype=int64)"
      ]
     },
     "execution_count": 20,
     "metadata": {},
     "output_type": "execute_result"
    }
   ],
   "source": [
    "rng.shuffle(shuf)\n",
    "shuf"
   ]
  },
  {
   "cell_type": "markdown",
   "metadata": {},
   "source": [
    "### 2. Permutation\n",
    "\n",
    " Generator.permutation(x, axis=0)\n",
    " \n",
    "     \"Randomly permute a sequence, or return a permuted range.\"[8]\n",
    "     \n",
    "As with the above, the description of what this function does is stragight forward, let's see what it does."
   ]
  },
  {
   "cell_type": "code",
   "execution_count": 21,
   "metadata": {},
   "outputs": [
    {
     "data": {
      "text/plain": [
       "array([5, 6, 7, 5, 2, 9, 2, 4, 2, 5], dtype=int64)"
      ]
     },
     "execution_count": 21,
     "metadata": {},
     "output_type": "execute_result"
    }
   ],
   "source": [
    "perm = rng.integers(1, 10, size = 10)\n",
    "perm"
   ]
  },
  {
   "cell_type": "code",
   "execution_count": 22,
   "metadata": {},
   "outputs": [
    {
     "data": {
      "text/plain": [
       "array([5, 5, 6, 2, 9, 2, 7, 4, 2, 5], dtype=int64)"
      ]
     },
     "execution_count": 22,
     "metadata": {},
     "output_type": "execute_result"
    }
   ],
   "source": [
    "rng.permutation(perm)"
   ]
  },
  {
   "cell_type": "markdown",
   "metadata": {},
   "source": [
    "Ok, we can see that the aray has been permuted, but when we call the perm variable, below, we can see that the original array is returned, so unlike shuffle, permutation will not change the status of the varialbe passed through the function. in order to capture the permutation and use it again, we must assign a varialbe to it."
   ]
  },
  {
   "cell_type": "code",
   "execution_count": 23,
   "metadata": {},
   "outputs": [
    {
     "data": {
      "text/plain": [
       "array([5, 6, 7, 5, 2, 9, 2, 4, 2, 5], dtype=int64)"
      ]
     },
     "execution_count": 23,
     "metadata": {},
     "output_type": "execute_result"
    }
   ],
   "source": [
    "perm"
   ]
  },
  {
   "cell_type": "code",
   "execution_count": 24,
   "metadata": {},
   "outputs": [
    {
     "data": {
      "text/plain": [
       "array([5, 7, 2, 4, 6, 5, 5, 2, 2, 9], dtype=int64)"
      ]
     },
     "execution_count": 24,
     "metadata": {},
     "output_type": "execute_result"
    }
   ],
   "source": [
    "perm2= rng.permutation(perm)\n",
    "perm2"
   ]
  },
  {
   "cell_type": "code",
   "execution_count": 25,
   "metadata": {},
   "outputs": [
    {
     "name": "stdout",
     "output_type": "stream",
     "text": [
      "[5 6 7 5 2 9 2 4 2 5]\n",
      "[5 7 2 4 6 5 5 2 2 9]\n"
     ]
    }
   ],
   "source": [
    "print(perm)\n",
    "print(perm2)"
   ]
  },
  {
   "cell_type": "markdown",
   "metadata": {},
   "source": [
    "## Distributions\n",
    "\n",
    "1. Binomial\n",
    "2. Poisson\n",
    "3. Exponential Distribution\n",
    "4. Uniform\n",
    "5. Normal (Gaussian)"
   ]
  },
  {
   "cell_type": "code",
   "execution_count": 26,
   "metadata": {},
   "outputs": [],
   "source": [
    "def plots(distribution):\n",
    "    ax = sns.displot(distribution, kde = True)\n",
    "    return ax"
   ]
  },
  {
   "attachments": {
    "binom.webp": {
     "image/webp": "[encoded data removed]"
    }
   },
   "cell_type": "markdown",
   "metadata": {},
   "source": [
    "### 1. Binomial\n",
    "\n",
    " Generator.binomial(n, p, size=None)\n",
    " \n",
    "        \"Samples are drawn from a binomial distribution with specified parameters, n trials and p probability of success where n an integer >= 0 and p is in the interval [0,1]. (n may be input as a float, but it is truncated to an integer in use)\"\n",
    "        \n",
    "![binom.webp](attachment:binom.webp)\n",
    "\n",
    "The binomial distribution model operates on four key assumptions:\n",
    "        1. Each cycle has one of two possible outcomes (success & failure)\n",
    "        2. The probability of success is the same for each cycle\n",
    "        3. Each cycle is independent of the others\n",
    "        4. The number of trials carried out is a set number"
   ]
  },
  {
   "cell_type": "markdown",
   "metadata": {},
   "source": [
    "So the Binomial distribution calculates the probability of success of a scenario with 2 distinct possible outcomes, leading it to be refferred to as a discrete probability function. Very often you will find people refer to the toss of a coin as an example of what the binomial distribution can calculate.\n",
    "\n",
    "Calculating the probability one specific side of a dice appears, let's say 2 times in 6 rolls, is another equally attributable game of chance we can apply, as we can either have a success or failure. Firstly let's do a quick calculation on what is the rough result we would expect to see for the 2 sides of a die to appear in 6 rolls:\n",
    "        Probability of our designated side appearing in one roll: 1/6\n",
    "        Probability of our designated side appearing in two rolls: (1/6)^2\n",
    "        Probability of other side appearing in one roll: 5/6\n",
    "        Probability of other side appearing in four roll: (5/6)^4\n",
    "        Number of possible success permuations: 6c2 (nCr)= 15[9]"
   ]
  },
  {
   "cell_type": "code",
   "execution_count": 27,
   "metadata": {},
   "outputs": [
    {
     "data": {
      "text/plain": [
       "0.20093878600823045"
      ]
     },
     "execution_count": 27,
     "metadata": {},
     "output_type": "execute_result"
    }
   ],
   "source": [
    "probcalc = (((1/6)**2)*((5/6)**4))*15\n",
    "probcalc"
   ]
  },
  {
   "cell_type": "markdown",
   "metadata": {},
   "source": [
    "Working it out, roughly, we get a 20% chance that on 6 rolls of a dice, our desinated side will appear two times.\n",
    "\n",
    "So we are expecting the chances that we roll six of the same number in six rolls to be in line with the above value for x. We can calculate this out suing the binomial function in numpy. Graphing this out we can see the distribution of the number of successes in our six rolls, across our desired sample size. "
   ]
  },
  {
   "cell_type": "code",
   "execution_count": 28,
   "metadata": {},
   "outputs": [
    {
     "data": {
      "text/plain": [
       "0.199"
      ]
     },
     "execution_count": 28,
     "metadata": {},
     "output_type": "execute_result"
    }
   ],
   "source": [
    "binom = rng.binomial(6, 0.1666667, 10000)\n",
    "binom2 = (sum(rng.binomial(6, 0.1666667, 10000)==2)/10000)\n",
    "binom2"
   ]
  },
  {
   "cell_type": "code",
   "execution_count": 29,
   "metadata": {},
   "outputs": [],
   "source": [
    "def binomdf(n,p, siz):\n",
    "    binom = rng.binomial(n,p, size = siz)\n",
    "    return binom"
   ]
  },
  {
   "cell_type": "code",
   "execution_count": 30,
   "metadata": {},
   "outputs": [
    {
     "data": {
      "text/plain": [
       "0.1944999999999949"
      ]
     },
     "execution_count": 30,
     "metadata": {},
     "output_type": "execute_result"
    }
   ],
   "source": [
    "x = sum((binomdf(6, 0.1666667, 10000)==2)/10000)\n",
    "x"
   ]
  },
  {
   "cell_type": "markdown",
   "metadata": {},
   "source": [
    "Given 10,000 tests we can see that the probability of getting 2 successful results is indeed roughly 20% when we run our np.random.binomial() function. We can graph this information. So using the binomial expansions in numpy, we can easily recreate scenarios such as a dice roll, high/low card games and the flip of a coin."
   ]
  },
  {
   "cell_type": "code",
   "execution_count": 31,
   "metadata": {},
   "outputs": [
    {
     "data": {
      "image/png": "[encoded data removed]",
      "text/plain": [
       "<Figure size 360x360 with 1 Axes>"
      ]
     },
     "metadata": {
      "needs_background": "light"
     },
     "output_type": "display_data"
    }
   ],
   "source": [
    "ax = plots(binomdf(6,0.1666667, 10000))\n",
    "plt.title(\"Exponential Dist @ scale = 0.5\")\n",
    "ax.set(xlabel = \"# of Successes\",ylabel = \"Frequency\");"
   ]
  },
  {
   "cell_type": "code",
   "execution_count": null,
   "metadata": {},
   "outputs": [],
   "source": []
  },
  {
   "cell_type": "code",
   "execution_count": null,
   "metadata": {},
   "outputs": [],
   "source": []
  },
  {
   "attachments": {
    "1%20AMqHucesWXdmSKgyTFIsGQ.png": {
     "image/png": "[encoded data removed]"
    }
   },
   "cell_type": "markdown",
   "metadata": {},
   "source": [
    "### 2. Poisson Distribution\n",
    "\n",
    "Generator.poisson(lam=1.0, size=None)\n",
    " \n",
    "        \"Draw samples from a Poisson distribution.\n",
    "         The Poisson distribution is the limit of the binomial distribution for large N.\"\n",
    "         \n",
    "Another discrete probability distribution, Poisson expresses the probability of how many events can happen in a fixed interval of time, if the events occur with a known continuous average rate and independently of the time since the last event.[10] Or, in laymans terms - a discrete event where the average time berween events is known, but the timing of these events is random[11]. Exampoes of such processes are movements in stock price, hits on a web page and the number of meteors hitting Earth.\n",
    "\n",
    "As with the binomial diustribution there some assumptions which must be met before the Poisson distribution can be applied:[11]\n",
    "    1. Events are independent of each other\n",
    "    2. The average rate is constatnt\n",
    "    3. Two events cannot occur simutaneously \n",
    "    \n",
    "![1%20AMqHucesWXdmSKgyTFIsGQ.png](attachment:1%20AMqHucesWXdmSKgyTFIsGQ.png)\n",
    "    \n",
    "'lam' (λ - lambda) above denotes the rate at which the event in question occurs. In the above formula: k is the number of times an event happens, and e the mathematical constant (approx. 2.71828). As the value for λ changes, we will see the probability of seeing different number sof events in one interval change."
   ]
  },
  {
   "cell_type": "code",
   "execution_count": null,
   "metadata": {},
   "outputs": [],
   "source": []
  },
  {
   "cell_type": "code",
   "execution_count": 32,
   "metadata": {},
   "outputs": [],
   "source": [
    "poiss = rng.poisson(4,10000)"
   ]
  },
  {
   "cell_type": "code",
   "execution_count": 33,
   "metadata": {},
   "outputs": [],
   "source": [
    "def poissdf(lam, siz):\n",
    "    poiss = rng.poisson(lam, size = siz)\n",
    "    return poiss"
   ]
  },
  {
   "cell_type": "code",
   "execution_count": 34,
   "metadata": {},
   "outputs": [
    {
     "data": {
      "image/png": "[encoded data removed]",
      "text/plain": [
       "<Figure size 360x360 with 1 Axes>"
      ]
     },
     "metadata": {
      "needs_background": "light"
     },
     "output_type": "display_data"
    }
   ],
   "source": [
    "plots(poissdf(4,10000))\n",
    "plt.title(\"Exponential Dist @ scale = 0.5\")\n",
    "ax.set(xlabel = \"Poisson Dist @ lam = 4\", ylabel = \"Frequency\");"
   ]
  },
  {
   "cell_type": "code",
   "execution_count": null,
   "metadata": {
    "scrolled": true
   },
   "outputs": [],
   "source": []
  },
  {
   "cell_type": "code",
   "execution_count": null,
   "metadata": {},
   "outputs": [],
   "source": []
  },
  {
   "attachments": {
    "Exponential.png": {
     "image/png": "[encoded data removed]"
    }
   },
   "cell_type": "markdown",
   "metadata": {},
   "source": [
    "### Exponential Distirbution\n",
    "\n",
    " Generator.exponential(scale=1.0, size=None)\n",
    " \n",
    "\"The exponential distribution is a continuous analogue of the geometric distribution. It describes many common situations, such as the size of raindrops measured over many rainstorms, or the time between page requests to Wikipedia.\"[12]\n",
    " \n",
    "![Exponential.png](attachment:Exponential.png)\n",
    " \n",
    "This distribution is much like the Poisson distribtuion discussed above, however rather than describe the likelihood of an event occurring, it describes the time between events in a Poisson process, it again uses the parameter $\\lambda$ ($\\lambda$ = 1/$\\beta$)."
   ]
  },
  {
   "cell_type": "code",
   "execution_count": 35,
   "metadata": {},
   "outputs": [],
   "source": [
    "def expondf(scale, siz):\n",
    "    expon = (rng.exponential(scale, size = siz))\n",
    "    return expon"
   ]
  },
  {
   "cell_type": "code",
   "execution_count": 36,
   "metadata": {},
   "outputs": [
    {
     "data": {
      "image/png": "[encoded data removed]",
      "text/plain": [
       "<Figure size 360x360 with 1 Axes>"
      ]
     },
     "metadata": {
      "needs_background": "light"
     },
     "output_type": "display_data"
    }
   ],
   "source": [
    "ax = plots(expondf(0.5, 10000))\n",
    "plt.title(\"Exponential Dist @ scale = 0.5\")\n",
    "ax.set(xlabel = \"Exponential Dist\", ylabel = \"Frequency\");"
   ]
  },
  {
   "cell_type": "code",
   "execution_count": null,
   "metadata": {},
   "outputs": [],
   "source": []
  },
  {
   "cell_type": "code",
   "execution_count": null,
   "metadata": {},
   "outputs": [],
   "source": []
  },
  {
   "cell_type": "code",
   "execution_count": null,
   "metadata": {},
   "outputs": [],
   "source": []
  },
  {
   "cell_type": "markdown",
   "metadata": {},
   "source": [
    "### 4. Uniform Distribution\n",
    "\n",
    "Generator.uniform(low=0.0, high=1.0, size=None)\n",
    " \n",
    "     \"Samples are uniformly distributed over the half-open interval [low, high) (includes low, but excludes high). In other words, any value within the given interval is equally likely to be drawn by uniform.\"[13]\n",
    "     \n",
    "We have already seen what the unifom distribution from the random data section above, namely .integers() and .random(), the difference s being where the distribution is called from, we could say that this distribution is the default distribution of random numbers in Numpy. So as above we can test out what the distribution from the"
   ]
  },
  {
   "cell_type": "code",
   "execution_count": null,
   "metadata": {},
   "outputs": [],
   "source": []
  },
  {
   "cell_type": "code",
   "execution_count": 37,
   "metadata": {},
   "outputs": [],
   "source": [
    "def unifdf(low, high, siz):\n",
    "    unif = rng.uniform(low, high, size = siz)\n",
    "    return unif"
   ]
  },
  {
   "cell_type": "code",
   "execution_count": 38,
   "metadata": {},
   "outputs": [
    {
     "data": {
      "image/png": "[encoded data removed]",
      "text/plain": [
       "<Figure size 360x360 with 1 Axes>"
      ]
     },
     "metadata": {
      "needs_background": "light"
     },
     "output_type": "display_data"
    }
   ],
   "source": [
    "ax = plots(unifdf(0,100,1000))\n",
    "plt.title(\"Unfirm Dist 0-100 @ 1,000 data points\")\n",
    "ax.set(xlabel = \"\", ylabel = \"\");\n"
   ]
  },
  {
   "cell_type": "code",
   "execution_count": null,
   "metadata": {},
   "outputs": [],
   "source": []
  },
  {
   "cell_type": "code",
   "execution_count": 39,
   "metadata": {},
   "outputs": [
    {
     "data": {
      "image/png": "[encoded data removed]",
      "text/plain": [
       "<Figure size 360x360 with 1 Axes>"
      ]
     },
     "metadata": {
      "needs_background": "light"
     },
     "output_type": "display_data"
    }
   ],
   "source": [
    "ax = plots(unifdf(0,100,10000))\n",
    "plt.title(\"Unfirm Dist 0-100 @ 10,000 data points\")\n",
    "ax.set(xlabel = \"Value from Uniform Distribution\", ylabel = \"# of Occurances\");"
   ]
  },
  {
   "cell_type": "markdown",
   "metadata": {},
   "source": [
    "So as we have previuously seen in our random data section, we see that as we increase the size of our sample from the unifrom distribution, we can see the graph trend towards a uniform distribution. "
   ]
  },
  {
   "cell_type": "markdown",
   "metadata": {},
   "source": [
    "### Normal (Gaussian) distribution\n",
    "\n",
    "Generator.normal(loc=0.0, scale=1.0, size=None)\n",
    "\n",
    "\n",
    "\n",
    "Finally, we get to what is the most famous and common of distributions, the Gaussian/Normal distribution, commonly called a bell curve. Often used in the natural and social sciences to represent real-valued random variables with unknown distributions. The normal distribution is known for it's fit on countless natural occurances; height/weight of individuals, IQ scores,and shoe size. \n",
    "\n",
    "A normal distribution has some key features; a bell-curve shape, the mean and median  are equal. Below we can see an example of a Standard Normal Distribution of mean = o, and a standard deviation of 1:"
   ]
  },
  {
   "attachments": {
    "Norm%20Dist.PNG": {
     "image/png": "[encoded data removed]"
    }
   },
   "cell_type": "markdown",
   "metadata": {},
   "source": [
    "![Norm%20Dist.PNG](attachment:Norm%20Dist.PNG)"
   ]
  },
  {
   "cell_type": "markdown",
   "metadata": {},
   "source": [
    "For all normal distributions:\n",
    "68% of the data falls within 1 stdndard deviation of the mean\n",
    "95% of the data falls within 2 standard deviations of the mean\n",
    "99.7% of the data falls within 3 standard deviations of the mean\n",
    "\n",
    "This is called the empirical rule or 68-95-99.7 rule, it is an expression of how many observations fall within a certain distance of the mean. as the standard deviation is often refferred to a as sigma, this rule has another name, The Three Sigma Rule[14]"
   ]
  },
  {
   "attachments": {
    "Norm%20Dist%20PDF.svg": {
     "image/svg+xml": [
      "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"
     ]
    }
   },
   "cell_type": "markdown",
   "metadata": {},
   "source": [
    "The probability density function for the Gaussian distribution is:\n",
    "\n",
    "![Norm%20Dist%20PDF.svg](attachment:Norm%20Dist%20PDF.svg)\n",
    "\n",
    "Where $\\mu$ is the mean and $\\sigma$ is the standard deviation, the square of the standard deviation $\\sigma^{_{2}}$[15]"
   ]
  },
  {
   "cell_type": "code",
   "execution_count": 40,
   "metadata": {},
   "outputs": [],
   "source": [
    "def normdf(mu, sigma, siz):\n",
    "    norm = rng.normal(mu, sigma, size = siz)\n",
    "    return(norm)"
   ]
  },
  {
   "cell_type": "code",
   "execution_count": 41,
   "metadata": {},
   "outputs": [
    {
     "data": {
      "image/png": "[encoded data removed]",
      "text/plain": [
       "<Figure size 360x360 with 1 Axes>"
      ]
     },
     "metadata": {
      "needs_background": "light"
     },
     "output_type": "display_data"
    }
   ],
   "source": [
    "ax = plots(normdf(0,10,10000))\n",
    "plt.title(\"Normal Dist of STD 10 @ 10,000 data points\")\n",
    "ax.set(xlabel = \"Value from Normal Distribution\", ylabel = \"# of Occurances\");\n"
   ]
  },
  {
   "cell_type": "code",
   "execution_count": 42,
   "metadata": {},
   "outputs": [],
   "source": [
    "x = normdf(0,10,10000)"
   ]
  },
  {
   "cell_type": "code",
   "execution_count": null,
   "metadata": {},
   "outputs": [],
   "source": []
  },
  {
   "cell_type": "markdown",
   "metadata": {},
   "source": [
    "## Seeds In Generating Random Numbers\n",
    "\n",
    "**Computers are deterministic**\n",
    "\n",
    "As we have previously seen above, 'random' or pseudo-random numbers in Numpy merely appear to be random, they are determined by the program's alogrithm and the input provided by the user. Computers are about as good at generating random numbers as bricks are at flaoting in the air. In Numpy, a default a state of 'entropy' is taken off the host machine's operating system and this will dictate how the random number's are generated i.e the input to the algorithm. \n",
    "\n",
    "There is also an option for the user to dictate what this input can be, it takes the form of 'seeds', which can be viewed as a set start point for the random generator selected, from here this generator runs it's algorithm. If we run the same algorithm from the same start point (hence- seed), we will get the same results each time. Please see the below example, using a random seed of 42, we should be able to produce two identical arrays.[16]"
   ]
  },
  {
   "cell_type": "code",
   "execution_count": 47,
   "metadata": {
    "scrolled": true
   },
   "outputs": [
    {
     "data": {
      "text/plain": [
       "array([[0.77395605, 0.43887844, 0.85859792],\n",
       "       [0.69736803, 0.09417735, 0.97562235],\n",
       "       [0.7611397 , 0.78606431, 0.12811363]])"
      ]
     },
     "execution_count": 47,
     "metadata": {},
     "output_type": "execute_result"
    }
   ],
   "source": [
    "rng =np.random.default_rng(seed=42)\n",
    "rng.random((3, 3))"
   ]
  },
  {
   "cell_type": "code",
   "execution_count": 46,
   "metadata": {},
   "outputs": [
    {
     "data": {
      "text/plain": [
       "array([[0.77395605, 0.43887844, 0.85859792],\n",
       "       [0.69736803, 0.09417735, 0.97562235],\n",
       "       [0.7611397 , 0.78606431, 0.12811363]])"
      ]
     },
     "execution_count": 46,
     "metadata": {},
     "output_type": "execute_result"
    }
   ],
   "source": [
    "x =np.random.default_rng(seed=42)\n",
    "x.random((3, 3))"
   ]
  },
  {
   "cell_type": "markdown",
   "metadata": {},
   "source": [
    "Below I have repeated the same code, but with seed 37 to show that different results will be produced for a different seed, but that replicating the seed will produce the same values."
   ]
  },
  {
   "cell_type": "code",
   "execution_count": 53,
   "metadata": {},
   "outputs": [
    {
     "data": {
      "text/plain": [
       "array([[0.70415303, 0.66166872, 0.06899324],\n",
       "       [0.70280165, 0.31896221, 0.45009567],\n",
       "       [0.98061453, 0.0644321 , 0.18368115]])"
      ]
     },
     "execution_count": 53,
     "metadata": {},
     "output_type": "execute_result"
    }
   ],
   "source": [
    "x =np.random.default_rng(seed=37)\n",
    "x.random((3, 3))"
   ]
  },
  {
   "cell_type": "code",
   "execution_count": 52,
   "metadata": {},
   "outputs": [
    {
     "data": {
      "text/plain": [
       "array([[0.70415303, 0.66166872, 0.06899324],\n",
       "       [0.70280165, 0.31896221, 0.45009567],\n",
       "       [0.98061453, 0.0644321 , 0.18368115]])"
      ]
     },
     "execution_count": 52,
     "metadata": {},
     "output_type": "execute_result"
    }
   ],
   "source": [
    "rng =np.random.default_rng(seed=37)\n",
    "rng.random((3, 3))"
   ]
  },
  {
   "cell_type": "markdown",
   "metadata": {},
   "source": [
    "The seed concept can apply to all random functions we have discussed in the abmove document, and acts in the same manner, creating repeatable and consistent results when running code. This can have many benefits to the end user:\n",
    "\n",
    "    1. Repeatable code is great for testing\n",
    "    2. Code is easier to share and provide tutorials\n",
    "    3. Changing a varialbe to a constant greatly benefits the programmer and gives them flexibility in fixing formulas, predictions etc"
   ]
  },
  {
   "cell_type": "markdown",
   "metadata": {},
   "source": [
    "Random seeds are used across a range of fields:\n",
    "\n",
    "    1. Probability and Statistics \n",
    "    2. Computing (Monte Carlo methods)\n",
    "    3. Deep Learning\n",
    "    4. Machine learning\n",
    "    5. Random Sampling"
   ]
  },
  {
   "cell_type": "markdown",
   "metadata": {},
   "source": [
    "References:\n",
    "\n",
    "1 - https://numpy.org/doc/stable/user/absolute_beginners.html\n",
    "\n",
    "2 - https://numpy.org/doc/stable/reference/random/index.html\n",
    "\n",
    "3 - https://numpy.org/doc/stable/reference/random/generator.html\n",
    "\n",
    "4 - https://numpy.org/doc/stable/reference/random/generated/numpy.random.Generator.integers.html#numpy.random.Generator.integers\n",
    "\n",
    "5 - https://numpy.org/doc/stable/reference/random/generated/numpy.random.Generator.random.html#numpy.random.Generator.random\n",
    "\n",
    "6 - https://numpy.org/doc/stable/reference/random/generated/numpy.random.Generator.choice.html#numpy.random.Generator.choice\n",
    "\n",
    "7 - https://numpy.org/doc/stable/reference/random/generated/numpy.random.Generator.shuffle.html#numpy.random.Generator.shuffle\n",
    "\n",
    "8 - https://numpy.org/doc/stable/reference/random/generated/numpy.random.Generator.permutation.html#numpy.random.Generator.permutation\n",
    "\n",
    "9 - https://en.wikipedia.org/wiki/Combination\n",
    "\n",
    "10 - https://en.wikipedia.org/wiki/Poisson_distribution\n",
    "\n",
    "11 - https://towardsdatascience.com/the-poisson-distribution-and-poisson-process-explained-4e2cb17d459\n",
    "\n",
    "12 - https://numpy.org/doc/stable/reference/random/generated/numpy.random.Generator.exponential.html#numpy.random.Generator.exponential\n",
    "\n",
    "13 - https://numpy.org/doc/stable/reference/random/generated/numpy.random.Generator.uniform.html#numpy.random.Generator.uniform\n",
    "\n",
    "14 - https://www.dataquest.io/blog/basic-statistics-in-python-probability/\n",
    "\n",
    "15 - https://numpy.org/doc/stable/reference/random/generated/numpy.random.Generator.normal.html#numpy.random.Generator.normal\n",
    "\n",
    "16 - https://www.sharpsightlabs.com/blog/numpy-random-seed/"
   ]
  }
 ],
 "metadata": {
  "kernelspec": {
   "display_name": "Python 3",
   "language": "python",
   "name": "python3"
  },
  "language_info": {
   "codemirror_mode": {
    "name": "ipython",
    "version": 3
   },
   "file_extension": ".py",
   "mimetype": "text/x-python",
   "name": "python",
   "nbconvert_exporter": "python",
   "pygments_lexer": "ipython3",
   "version": "3.7.4"
  }
 },
 "nbformat": 4,
 "nbformat_minor": 2
}
